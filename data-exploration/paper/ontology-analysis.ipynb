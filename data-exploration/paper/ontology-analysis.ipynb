{
 "cells": [
  {
   "cell_type": "markdown",
   "id": "b1f97a91",
   "metadata": {},
   "source": [
    "[Will ClinVar change my data?](https://www.ncbi.nlm.nih.gov/clinvar/docs/submit/#change)\n",
    "> In general, ClinVar does not change data that was submitted to the database. There are a few scenarios in which we change the format, but not the content, of data during submission processing:\n",
    ">    * remove spaces from HGVS expressions, unless the space is between integers\n",
    ">    * convert HPO: to HP: and report as HP:0000000 for an HPO identifiers\n",
    ">    * modify Location in gene information according to ClinVar's conventions, including extra spaces, capitalization, abbreviations, and unsupported terms for Location in gene\n",
    "\n",
    "Via [full submission spreadsheet](https://www.ncbi.nlm.nih.gov/clinvar/docs/submit/#spreadsheet): For conditions, either an identifier or preferred condition name (free text) is required, and the latter only if not present in supported ontologies.  It must be one or the other but _not both_ (\"Providing both will result in an error\").\n",
    "Identifiers must be from OMIM, MeSH, Orphanet, MedGen, HPO, Mondo, UMLS (anything else must \"check with us first\").\n",
    "\n",
    "From the [original paper](https://academic.oup.com/nar/article/42/D1/D980/1051029?login=true):\n",
    "> Submitters are encouraged to submit phenotypic information via identifier, e.g. MIM number, MeSH term, or identifier from the Human Phenotype Ontology (HPO) (10). Free text is accepted, however, and ClinVar staff will work with submitters to determine if that text can be mapped to standardized concepts. When such mapping is possible, ClinVar connects the phenotype to a concept in MedGen (11) and adds MedGen’s identifier to the RCV record\n",
    "\n",
    "And a bit more on data augmentation - in particular functional/molecular consequences, genes and location info:\n",
    "> Some of the data ClinVar reports related to variation are added by NCBI. These data are reported only as part of the aggregate record (accession starting with RCV), and can include alternate HGVS expressions, allele frequencies from the 1000 Genomes project (7) or GO-ESP (8), identifiers from dbSNP or dbVar, molecular consequences (e.g. nonsense/missense/frameshift) and location data (splice site, untranslated regions, cytogenetic band, gene symbols and names). Values for molecular consequence, type of variation and location relative to a gene are standardized by reference to identifiers from the Sequence Ontology (9)."
   ]
  },
  {
   "cell_type": "markdown",
   "id": "676b3fda",
   "metadata": {},
   "source": [
    "## Ontology mappings\n",
    "\n",
    "* What ontology mappings are already in ClinVar?\n",
    "* Are these directly from the submitters or annotated by ClinVar?\n",
    "* How often are they present?\n",
    "* How does the quality and coverage of the mappings compare with our mappings?"
   ]
  },
  {
   "cell_type": "code",
   "execution_count": 5,
   "id": "94b9bb14",
   "metadata": {},
   "outputs": [],
   "source": [
    "import sys\n",
    "\n",
    "sys.path.append('..')"
   ]
  },
  {
   "cell_type": "code",
   "execution_count": 6,
   "id": "b7e4fd14",
   "metadata": {},
   "outputs": [],
   "source": [
    "from collections import Counter\n",
    "import csv\n",
    "\n",
    "from filter_clinvar_xml import filter_xml, pprint, iterate_cvs_from_xml\n",
    "from clinvar_xml_io.clinvar_xml_io import *"
   ]
  },
  {
   "cell_type": "code",
   "execution_count": 21,
   "id": "6d6c8fc0",
   "metadata": {},
   "outputs": [],
   "source": [
    "%matplotlib inline\n",
    "import matplotlib.pyplot as plt"
   ]
  },
  {
   "cell_type": "code",
   "execution_count": 7,
   "id": "5e013ef3",
   "metadata": {},
   "outputs": [],
   "source": [
    "# January 2023\n",
    "clinvar_xml = '/home/april/projects/opentargets/clinvar.xml.gz'"
   ]
  },
  {
   "cell_type": "code",
   "execution_count": 8,
   "id": "8f5a44d7",
   "metadata": {},
   "outputs": [],
   "source": [
    "clinvar = ClinVarDataset(clinvar_xml)"
   ]
  },
  {
   "cell_type": "code",
   "execution_count": 35,
   "id": "34c10779",
   "metadata": {},
   "outputs": [],
   "source": [
    "# Distribution of ontologies among RCVs and traits\n",
    "ontology_counts_per_rcv = Counter()\n",
    "ontology_counts_per_trait = Counter()\n",
    "num_rcvs = 0\n",
    "num_traits = 0\n",
    "for record in clinvar:\n",
    "    num_rcvs += 1\n",
    "    dbs_in_rcv = set()\n",
    "    for trait in record.traits:\n",
    "        num_traits += 1\n",
    "        has_db = False\n",
    "        # list of (db, id, status)\n",
    "        for db, _, _ in trait.xrefs:\n",
    "            dbs_in_rcv.add(db)\n",
    "            ontology_counts_per_trait[db] += 1\n",
    "            has_db = True\n",
    "        if not has_db:\n",
    "            ontology_counts_per_trait['none'] += 1\n",
    "    for db in dbs_in_rcv:\n",
    "        ontology_counts_per_rcv[db] += 1\n",
    "    if not dbs_in_rcv:\n",
    "        ontology_counts_per_rcv['none'] += 1"
   ]
  },
  {
   "cell_type": "code",
   "execution_count": 36,
   "id": "a6dd8f60",
   "metadata": {},
   "outputs": [
    {
     "data": {
      "text/plain": [
       "2302323"
      ]
     },
     "execution_count": 36,
     "metadata": {},
     "output_type": "execute_result"
    }
   ],
   "source": [
    "num_rcvs"
   ]
  },
  {
   "cell_type": "code",
   "execution_count": 37,
   "id": "b15a6c75",
   "metadata": {},
   "outputs": [
    {
     "data": {
      "text/plain": [
       "2553551"
      ]
     },
     "execution_count": 37,
     "metadata": {},
     "output_type": "execute_result"
    }
   ],
   "source": [
    "num_traits"
   ]
  },
  {
   "cell_type": "code",
   "execution_count": 106,
   "id": "d63fb210",
   "metadata": {},
   "outputs": [],
   "source": [
    "ontology_keys = ['EFO', 'MONDO', 'Orphanet', 'OMIM', 'HPO', 'MedGen', 'Gene', 'MeSH', 'none']"
   ]
  },
  {
   "cell_type": "code",
   "execution_count": 107,
   "id": "341789ce",
   "metadata": {},
   "outputs": [],
   "source": [
    "def get_values(counter, keys=ontology_keys):\n",
    "    values = []\n",
    "    for k in keys:\n",
    "        if k == 'HPO' and 'Human Phenotype Ontology' in counter:\n",
    "            values.append(counter['Human Phenotype Ontology'])\n",
    "        elif k in counter:\n",
    "            values.append(counter[k])\n",
    "        else:\n",
    "            values.append(0)\n",
    "    return values"
   ]
  },
  {
   "cell_type": "code",
   "execution_count": 108,
   "id": "94514f4a",
   "metadata": {},
   "outputs": [],
   "source": [
    "def print_counter(counter, keys=ontology_keys):\n",
    "    for k, v in zip(keys, get_values(counter, keys)):\n",
    "        print(f'{k: <8} {v}')"
   ]
  },
  {
   "cell_type": "code",
   "execution_count": 144,
   "id": "72bcc9e7",
   "metadata": {},
   "outputs": [],
   "source": [
    "def plot_counter(counter, title, keys=ontology_keys):\n",
    "    plt.figure(figsize=(15,10))\n",
    "    plt.title(title)\n",
    "    bars = plt.bar(keys, get_values(counter, keys))\n",
    "    plt.bar_label(bars, padding=3)"
   ]
  },
  {
   "cell_type": "code",
   "execution_count": 145,
   "id": "6081f3de",
   "metadata": {},
   "outputs": [
    {
     "data": {
      "image/png": "[encoded data removed]",
      "text/plain": [
       "<Figure size 1080x720 with 1 Axes>"
      ]
     },
     "metadata": {
      "needs_background": "light"
     },
     "output_type": "display_data"
    }
   ],
   "source": [
    "plot_counter(ontology_counts_per_rcv, 'RCVs with given ontology')"
   ]
  },
  {
   "cell_type": "code",
   "execution_count": 97,
   "id": "3907cfe6",
   "metadata": {},
   "outputs": [
    {
     "name": "stdout",
     "output_type": "stream",
     "text": [
      "EFO      5205\n",
      "MONDO    1244756\n",
      "Orphanet 815766\n",
      "OMIM     994198\n",
      "HPO      138421\n",
      "MedGen   2270469\n",
      "Gene     2498\n",
      "MeSH     293174\n",
      "none     31854\n"
     ]
    }
   ],
   "source": [
    "print_counter(ontology_counts_per_rcv)"
   ]
  },
  {
   "cell_type": "code",
   "execution_count": null,
   "id": "47cff833",
   "metadata": {},
   "outputs": [],
   "source": [
    "plot_counter(ontology_counts_per_trait, 'Traits with given ontology')"
   ]
  },
  {
   "cell_type": "code",
   "execution_count": 99,
   "id": "dcbaaa5b",
   "metadata": {},
   "outputs": [
    {
     "name": "stdout",
     "output_type": "stream",
     "text": [
      "EFO      5219\n",
      "MONDO    1472295\n",
      "Orphanet 1045481\n",
      "OMIM     1225769\n",
      "HPO      377503\n",
      "MedGen   2520361\n",
      "Gene     2498\n",
      "MeSH     293927\n",
      "none     33190\n"
     ]
    }
   ],
   "source": [
    "print_counter(ontology_counts_per_trait)"
   ]
  },
  {
   "cell_type": "code",
   "execution_count": 39,
   "id": "c03c36fb",
   "metadata": {},
   "outputs": [],
   "source": [
    "# from metrics\n",
    "metrics_num_rcvs = 2302323  # obviously same as count direct from XML\n",
    "metrics_missing_efo = 23180\n",
    "metrics_missing_conseq = 20598"
   ]
  },
  {
   "cell_type": "code",
   "execution_count": 40,
   "id": "da06c15d",
   "metadata": {},
   "outputs": [
    {
     "data": {
      "text/plain": [
       "0.9861644087297916"
      ]
     },
     "execution_count": 40,
     "metadata": {},
     "output_type": "execute_result"
    }
   ],
   "source": [
    "# ClinVar RCV max coverage of a single ontology (medgen)\n",
    "ontology_counts_per_rcv['MedGen'] / metrics_num_rcvs"
   ]
  },
  {
   "cell_type": "code",
   "execution_count": 41,
   "id": "35ede967",
   "metadata": {},
   "outputs": [
    {
     "data": {
      "text/plain": [
       "0.5406522021453983"
      ]
     },
     "execution_count": 41,
     "metadata": {},
     "output_type": "execute_result"
    }
   ],
   "source": [
    "# ClinVar coverage of MONDO\n",
    "ontology_counts_per_rcv['MONDO'] / metrics_num_rcvs"
   ]
  },
  {
   "cell_type": "code",
   "execution_count": 43,
   "id": "dbccc9aa",
   "metadata": {},
   "outputs": [
    {
     "data": {
      "text/plain": [
       "0.002260760110549215"
      ]
     },
     "execution_count": 43,
     "metadata": {},
     "output_type": "execute_result"
    }
   ],
   "source": [
    "# ClinVar coverage of EFO\n",
    "ontology_counts_per_rcv['EFO'] / metrics_num_rcvs"
   ]
  },
  {
   "cell_type": "code",
   "execution_count": 42,
   "id": "d8433c3b",
   "metadata": {},
   "outputs": [
    {
     "data": {
      "text/plain": [
       "0.9899319079034523"
      ]
     },
     "execution_count": 42,
     "metadata": {},
     "output_type": "execute_result"
    }
   ],
   "source": [
    "# Our coverage of EFO\n",
    "(metrics_num_rcvs - metrics_missing_efo) / metrics_num_rcvs"
   ]
  },
  {
   "cell_type": "markdown",
   "id": "0a6cf053",
   "metadata": {},
   "source": [
    "#### Notes from our processing\n",
    "\n",
    "* ClinVar cross-refs are _only_ used for Zooma feedback, not elsewhere and in particular not in manual curation\n",
    "    * this seems kind of ridiculous to me?\n",
    "    * even the cross refs for EFO import are from OxO and not Clinvar\n",
    "* MedGen ids are reported as disease source id in evidence string but not otherwise used\n",
    "    * see [#207](https://github.com/EBIvariation/eva-opentargets/issues/207)\n",
    "    \n",
    "#### Other notes\n",
    "\n",
    "MedGen - not an ontology but a \"list of terms\", hence not really supported by SPOT tools (though compare OMIM which is also described as a database, but is supported by OxO though not OLS)\n",
    "\n",
    "Ask OT why they chose EFO - can form part of our justification as well (in addition to being a kind of domain transfer exercise)\n",
    "\n",
    "Mappings in ClinVar might be out of date as they depend on submitters to update data (though also our mappings can fall out of date)\n",
    "\n",
    "Cross-refs from Clinvar do make it into Zooma via our feedback, kind of roundabout but also allows them to be leveraged by the larger community (?)\n",
    "\n",
    "Given the submission instructions, assume that the trait names are actually annotated by ClinVar from the ontologies (probably explains the number of exact matches)"
   ]
  },
  {
   "cell_type": "markdown",
   "id": "f961cdf8",
   "metadata": {},
   "source": [
    "#### Comparing distribution among terms with mappings vs without"
   ]
  },
  {
   "cell_type": "code",
   "execution_count": 45,
   "id": "d26f3ef8",
   "metadata": {},
   "outputs": [],
   "source": [
    "# January 2023\n",
    "efo_mappings = '/home/april/projects/opentargets/trait_names_to_ontology_mappings.tsv'"
   ]
  },
  {
   "cell_type": "code",
   "execution_count": 51,
   "id": "31ef43f8",
   "metadata": {},
   "outputs": [],
   "source": [
    "our_mappings = {}\n",
    "with open(efo_mappings) as f:\n",
    "    reader = csv.reader(f, delimiter='\\t')\n",
    "    for row in reader:\n",
    "        clinvar_label, uri, label = row\n",
    "        our_mappings[clinvar_label.lower().strip()] = uri"
   ]
  },
  {
   "cell_type": "code",
   "execution_count": 52,
   "id": "5dbc715a",
   "metadata": {},
   "outputs": [],
   "source": [
    "ontology_counts_with_mapping = Counter()\n",
    "ontology_counts_without_mapping = Counter()\n",
    "\n",
    "for record in clinvar:\n",
    "    dbs_in_rcv = set()\n",
    "    with_mapping = False\n",
    "    for trait in record.traits:\n",
    "        # list of (db, id, status)\n",
    "        for db, _, _ in trait.xrefs:\n",
    "            dbs_in_rcv.add(db)\n",
    "        # check for any trait name in mappings\n",
    "        for name in trait.all_names:\n",
    "            if name.lower().strip() in our_mappings:\n",
    "                with_mapping = True\n",
    "                \n",
    "    for db in dbs_in_rcv:\n",
    "        if with_mapping:\n",
    "            ontology_counts_with_mapping[db] += 1\n",
    "        else:\n",
    "            ontology_counts_without_mapping[db] += 1\n",
    "    if not dbs_in_rcv:\n",
    "        if with_mapping:\n",
    "            ontology_counts_with_mapping['none'] += 1\n",
    "        else:\n",
    "            ontology_counts_without_mapping['none'] += 1"
   ]
  },
  {
   "cell_type": "code",
   "execution_count": 146,
   "id": "23952436",
   "metadata": {},
   "outputs": [],
   "source": [
    "def plot_stacked_counters(with_mapping, without_mapping, title, keys=ontology_keys):\n",
    "    fig, ax = plt.subplots(figsize=(15,10))\n",
    "    with_values = get_values(with_mapping, keys)\n",
    "    without_values = get_values(without_mapping, keys)\n",
    "    with_bars = ax.bar(keys, with_values, label='With mappings')\n",
    "    without_bars = ax.bar(keys, without_values, bottom=with_values, label='Without mappings')\n",
    "    ax.bar_label(without_bars, labels=zip(with_values, without_values), padding=3)\n",
    "    ax.set_title(title)\n",
    "    ax.legend()"
   ]
  },
  {
   "cell_type": "code",
   "execution_count": 148,
   "id": "e58a751e",
   "metadata": {},
   "outputs": [
    {
     "data": {
      "image/png": "[encoded data removed]",
      "text/plain": [
       "<Figure size 1080x720 with 1 Axes>"
      ]
     },
     "metadata": {
      "needs_background": "light"
     },
     "output_type": "display_data"
    }
   ],
   "source": [
    "plot_stacked_counters(ontology_counts_with_mapping, ontology_counts_without_mapping, 'RCVs with given ontology, with/without our mappings')"
   ]
  },
  {
   "cell_type": "code",
   "execution_count": 101,
   "id": "01bc145c",
   "metadata": {},
   "outputs": [
    {
     "name": "stdout",
     "output_type": "stream",
     "text": [
      "EFO      5205\n",
      "MONDO    1239430\n",
      "Orphanet 815300\n",
      "OMIM     988211\n",
      "HPO      137611\n",
      "MedGen   1389889\n",
      "Gene     2474\n",
      "MeSH     293040\n",
      "none     838\n"
     ]
    }
   ],
   "source": [
    "print_counter(ontology_counts_with_mapping)"
   ]
  },
  {
   "cell_type": "code",
   "execution_count": 103,
   "id": "0d0de523",
   "metadata": {},
   "outputs": [
    {
     "name": "stdout",
     "output_type": "stream",
     "text": [
      "EFO      0\n",
      "MONDO    5326\n",
      "Orphanet 466\n",
      "OMIM     5987\n",
      "HPO      810\n",
      "MedGen   880580\n",
      "Gene     24\n",
      "MeSH     134\n",
      "none     31016\n"
     ]
    }
   ],
   "source": [
    "print_counter(ontology_counts_without_mapping)"
   ]
  },
  {
   "cell_type": "code",
   "execution_count": 149,
   "id": "ff44c84d",
   "metadata": {},
   "outputs": [
    {
     "data": {
      "text/plain": [
       "924343"
      ]
     },
     "execution_count": 149,
     "metadata": {},
     "output_type": "execute_result"
    }
   ],
   "source": [
    "sum(ontology_counts_without_mapping.values())"
   ]
  },
  {
   "cell_type": "code",
   "execution_count": null,
   "id": "e74246e6",
   "metadata": {},
   "outputs": [],
   "source": [
    "plot_counter(ontology_counts_with_mapping, 'RCVs with given ontology (mapped by us)')"
   ]
  },
  {
   "cell_type": "code",
   "execution_count": null,
   "id": "a1b702ae",
   "metadata": {},
   "outputs": [],
   "source": [
    "plot_counter(ontology_counts_without_mapping, 'RCVs with given ontology (not mapped by us)')"
   ]
  },
  {
   "cell_type": "code",
   "execution_count": 105,
   "id": "961cea6f",
   "metadata": {},
   "outputs": [],
   "source": [
    "# Percentage of ClinVar records not covered by EFO or an importable term (HP, ORDO / Orphanet, MONDO)\n",
    "importable_ontologies = {'Human Phenotype Ontology', 'EFO', 'Orphanet', 'MONDO'}\n",
    "importable_ontology_counts = Counter()\n",
    "importable_with_mapping = Counter()\n",
    "importable_without_mapping = Counter()\n",
    "\n",
    "for record in clinvar:\n",
    "    importable = False\n",
    "    with_mapping = False\n",
    "    for trait in record.traits:\n",
    "        # list of (db, id, status)\n",
    "        for db, _, _ in trait.xrefs:\n",
    "            if db in importable_ontologies:\n",
    "                importable = True\n",
    "                break\n",
    "        # check for any trait name in mappings\n",
    "        for name in trait.all_names:\n",
    "            if name.lower().strip() in our_mappings:\n",
    "                with_mapping = True\n",
    "                break\n",
    "    if importable:\n",
    "        importable_ontology_counts['importable'] += 1\n",
    "        if with_mapping:\n",
    "            importable_with_mapping['importable'] += 1\n",
    "        else:\n",
    "            importable_without_mapping['importable'] += 1\n",
    "    else:\n",
    "        importable_ontology_counts['none'] += 1\n",
    "        if with_mapping:\n",
    "            importable_with_mapping['none'] += 1\n",
    "        else:\n",
    "            importable_without_mapping['none'] += 1"
   ]
  },
  {
   "cell_type": "code",
   "execution_count": 135,
   "id": "1b8e66a2",
   "metadata": {},
   "outputs": [
    {
     "data": {
      "text/plain": [
       "Counter({'importable': 1266670, 'none': 1035653})"
      ]
     },
     "execution_count": 135,
     "metadata": {},
     "output_type": "execute_result"
    }
   ],
   "source": [
    "importable_ontology_counts"
   ]
  },
  {
   "cell_type": "code",
   "execution_count": 150,
   "id": "46ee43fa",
   "metadata": {},
   "outputs": [
    {
     "data": {
      "text/plain": [
       "0.5501704148375358"
      ]
     },
     "execution_count": 150,
     "metadata": {},
     "output_type": "execute_result"
    }
   ],
   "source": [
    "importable_ontology_counts['importable'] / num_rcvs"
   ]
  },
  {
   "cell_type": "code",
   "execution_count": 122,
   "id": "5e258e5c",
   "metadata": {},
   "outputs": [
    {
     "data": {
      "text/plain": [
       "Counter({'importable': 1260649, 'none': 130078})"
      ]
     },
     "execution_count": 122,
     "metadata": {},
     "output_type": "execute_result"
    }
   ],
   "source": [
    "importable_with_mapping"
   ]
  },
  {
   "cell_type": "code",
   "execution_count": 123,
   "id": "eae87c01",
   "metadata": {},
   "outputs": [
    {
     "data": {
      "text/plain": [
       "Counter({'importable': 6021, 'none': 905575})"
      ]
     },
     "execution_count": 123,
     "metadata": {},
     "output_type": "execute_result"
    }
   ],
   "source": [
    "importable_without_mapping"
   ]
  },
  {
   "cell_type": "code",
   "execution_count": null,
   "id": "1e935bcb",
   "metadata": {},
   "outputs": [],
   "source": [
    "plot_stacked_counters(importable_with_mapping, importable_without_mapping, 'importable', ('importable', 'none'))"
   ]
  },
  {
   "cell_type": "markdown",
   "id": "98e0a50f",
   "metadata": {},
   "source": [
    "### Summary for ontologies\n",
    "\n",
    "* ClinVar uses and actually prefers identifiers for traits from submissions\n",
    "    * The vast majority are MedGen: 98.6% of RCVs have an associated MedGen ID\n",
    "    * The text we are curating is probably from MedGen, only a small amount is text from submitters\n",
    "    * However only 55% of RCVs are associated with a term from EFO or an importable ontology\n",
    "* We've covered about 99.0% of RCVs via our EFO mappings\n",
    "    * Most terms we've not yet mapped to EFO are associated with MedGen ids (or none)\n",
    "    * We don't currently use ClinVar ontology xrefs in curation directly, only indirectly via feedback to Zooma\n",
    "* Next steps\n",
    "    * Check whether mappings contained in ClinVar are up-to-date\n",
    "    * Ask OT why they chose EFO\n",
    "        * example of why one might want ClinVar data mapped to different ontologies\n",
    "    * Resurrect [#207](https://github.com/EBIvariation/eva-opentargets/issues/207)\n",
    "        * make better use of MedGen and xrefs in general"
   ]
  },
  {
   "cell_type": "code",
   "execution_count": 225,
   "id": "7d8fb505",
   "metadata": {},
   "outputs": [],
   "source": [
    "\"\"\"\n",
    "Check whether ClinVar/EVA terms are obsolete - ran on the cluster as a standalone script\n",
    "\"\"\"\n",
    "# import argparse\n",
    "# from collections import Counter\n",
    "# import csv\n",
    "# import multiprocessing\n",
    "# import requests\n",
    "\n",
    "# from eva_cttv_pipeline.trait_mapping.oxo import OntologyUri\n",
    "# from eva_cttv_pipeline.clinvar_xml_io.clinvar_xml_io import *\n",
    "\n",
    "\n",
    "# CURRENT = 'current'\n",
    "# OBSOLETE = 'obsolete'\n",
    "# CLINVAR = 'clinvar'\n",
    "# EVA = 'eva'\n",
    "\n",
    "# importable_ontologies = {'Human Phenotype Ontology', 'EFO', 'Orphanet', 'MONDO'}\n",
    "\n",
    "\n",
    "# def get_our_mappings(mappings_file):\n",
    "#     our_mappings = {}\n",
    "#     with open(mappings_file) as f:\n",
    "#         reader = csv.reader(f, delimiter='\\t')\n",
    "#         for row in reader:\n",
    "#             clinvar_label, uri, label = row\n",
    "#             our_mappings[clinvar_label.lower().strip()] = uri\n",
    "#     return our_mappings\n",
    "\n",
    "\n",
    "# def is_current(*, iri=None, db=None, iden=None):\n",
    "#     term = iri\n",
    "#     if not iri:\n",
    "#         if iden.startswith('MONDO:'):\n",
    "#             iden = iden[len('MONDO:'):]\n",
    "#         if db.lower() == 'human phenotype ontology':\n",
    "#             db = 'hp'\n",
    "#             iden = iden[len('HP:'):]\n",
    "#         term = str(OntologyUri(iden, db.lower()))\n",
    "#     url = f'http://www.ebi.ac.uk/ols/api/terms?iri={term}'\n",
    "#     response = requests.get(url)\n",
    "#     response.raise_for_status()\n",
    "#     try:\n",
    "#         data = response.json()['_embedded']['terms'][0]\n",
    "#         return (not data['is_obsolete'])#, data['term_replaced_by'])\n",
    "#     except Exception as e:\n",
    "#         print('Not found', iri, db, iden, url)\n",
    "#         return False\n",
    "\n",
    "\n",
    "# def process_record(record, our_mappings):\n",
    "#     result = {}\n",
    "#     # Collect mapped terms\n",
    "#     all_clinvar_terms = set()\n",
    "#     all_eva_terms = set()\n",
    "#     for trait in record.traits:\n",
    "#         for db, term_id, status in trait.xrefs:\n",
    "#             if db in importable_ontologies and status == 'current':\n",
    "#                 all_clinvar_terms.add((db, term_id))\n",
    "#         for name in trait.all_names:\n",
    "#             if name.lower().strip() in our_mappings:\n",
    "#                 all_eva_terms.add(our_mappings[name.lower().strip()])\n",
    "                \n",
    "#     # For this record, see if *any* clinvar terms and *any* eva terms are found in ols & not obsolete\n",
    "#     # If so we count as \"current\"\n",
    "#     if any(is_current(db=db, iden=iden) for db, iden in all_clinvar_terms):\n",
    "#         result[CLINVAR] = CURRENT\n",
    "#     else:\n",
    "#         result[CLINVAR] = OBSOLETE\n",
    "#     if any(is_current(iri=iri) for iri in all_eva_terms):\n",
    "#         result[EVA] = CURRENT\n",
    "#     else:\n",
    "#         result[EVA] = OBSOLETE\n",
    "#     return result\n",
    "\n",
    "\n",
    "# def print_counter(counter):\n",
    "#     l = len(max(counter.keys(), key=lambda x: len(x)))\n",
    "#     for k, v in counter.items():\n",
    "#         print(f'{k: <{l}} {v}')\n",
    "\n",
    "\n",
    "# def main(clinvar_xml, mappings_file):\n",
    "#     our_mappings = get_our_mappings(mappings_file)\n",
    "#     clinvar = ClinVarDataset(clinvar_xml)\n",
    "#     process_pool = multiprocessing.Pool(processes=24)\n",
    "#     output = [\n",
    "#         process_pool.apply(process_record, args=(record, our_mappings))\n",
    "#         for record in clinvar\n",
    "#     ]\n",
    "#     eva_counts = Counter([result[EVA] for result in output])\n",
    "#     clinvar_counts = Counter([result[CLINVAR] for result in output])\n",
    "#     print('EVA COUNTS')\n",
    "#     print_counter(eva_counts)\n",
    "#     print('CLINVAR COUNTS')\n",
    "#     print_counter(clinvar_counts)\n",
    "\n",
    "\n",
    "# if __name__ == '__main__':\n",
    "#     parser = argparse.ArgumentParser()\n",
    "#     parser.add_argument('--clinvar-xml', required=True)\n",
    "#     parser.add_argument('--mappings', required=True)\n",
    "#     args = parser.parse_args()\n",
    "\n",
    "#     main(args.clinvar_xml, args.mappings)"
   ]
  },
  {
   "cell_type": "code",
   "execution_count": null,
   "id": "69f8fd4c",
   "metadata": {},
   "outputs": [],
   "source": []
  }
 ],
 "metadata": {
  "kernelspec": {
   "display_name": "Python 3 (ipykernel)",
   "language": "python",
   "name": "python3"
  },
  "language_info": {
   "codemirror_mode": {
    "name": "ipython",
    "version": 3
   },
   "file_extension": ".py",
   "mimetype": "text/x-python",
   "name": "python",
   "nbconvert_exporter": "python",
   "pygments_lexer": "ipython3",
   "version": "3.8.10"
  }
 },
 "nbformat": 4,
 "nbformat_minor": 5
}
