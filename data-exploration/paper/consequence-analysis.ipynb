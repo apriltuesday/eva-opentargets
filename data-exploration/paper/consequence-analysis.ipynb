{
 "cells": [
  {
   "cell_type": "markdown",
   "id": "bebecf4f",
   "metadata": {},
   "source": [
    "From the [original paper](https://academic.oup.com/nar/article/42/D1/D980/1051029?login=true) on data augmentation - in particular functional/molecular consequences, genes and location info:\n",
    "> Some of the data ClinVar reports related to variation are added by NCBI. These data are reported only as part of the aggregate record (accession starting with RCV), and can include alternate HGVS expressions, allele frequencies from the 1000 Genomes project (7) or GO-ESP (8), identifiers from dbSNP or dbVar, molecular consequences (e.g. nonsense/missense/frameshift) and location data (splice site, untranslated regions, cytogenetic band, gene symbols and names). Values for molecular consequence, type of variation and location relative to a gene are standardized by reference to identifiers from the Sequence Ontology (9).\n",
    "\n",
    "In [full submission spreadsheet](https://www.ncbi.nlm.nih.gov/clinvar/docs/submit/#spreadsheet): don't see anything about molecular / functional consequences, which is consistent with the above stating that NCBI adds these.\n",
    "On the other hand there is space for optional gene symbol:\n",
    "> This must be the preferred symbol in NCBI's Gene database, which corresponds to HGNC's preferred symbol when one is available. Use only gene symbols that represent functional genes; do not include symbols for pseudogenes or regulatory regions. Separate multiple symbols with a semicolon.\n",
    "Gene symbol should only be provided to indicate the gene-disease relationship supporting the variant interpretation. Gene symbol is not expected for CNVs or cytogenetic variants except to make a statement that a specific gene within the variant has a relationship to the interpreted condition."
   ]
  },
  {
   "cell_type": "markdown",
   "id": "4fff2ba4",
   "metadata": {},
   "source": [
    "## Functional consequences\n",
    "\n",
    "* What functional consequences are already in ClinVar?\n",
    "* Are these directly from the submitters or annotated by ClinVar?\n",
    "* How often are they present?\n",
    "* How does the quality and coverage of the annotations compare with our annotations?"
   ]
  },
  {
   "cell_type": "code",
   "execution_count": 3,
   "id": "1efaf7a0",
   "metadata": {},
   "outputs": [],
   "source": [
    "import sys\n",
    "\n",
    "sys.path.append('..')"
   ]
  },
  {
   "cell_type": "code",
   "execution_count": 4,
   "id": "35e04bfb",
   "metadata": {},
   "outputs": [],
   "source": [
    "from collections import Counter\n",
    "import csv\n",
    "import multiprocessing\n",
    "import requests\n",
    "\n",
    "from filter_clinvar_xml import filter_xml, pprint, iterate_cvs_from_xml\n",
    "from clinvar_xml_io.clinvar_xml_io import *\n",
    "from eva_cttv_pipeline.trait_mapping.oxo import OntologyUri"
   ]
  },
  {
   "cell_type": "code",
   "execution_count": 5,
   "id": "11afd9ae",
   "metadata": {},
   "outputs": [],
   "source": [
    "%matplotlib inline\n",
    "import matplotlib.pyplot as plt"
   ]
  },
  {
   "cell_type": "code",
   "execution_count": 6,
   "id": "f12689c2",
   "metadata": {},
   "outputs": [],
   "source": [
    "# January 2023\n",
    "clinvar_xml = '/home/april/projects/opentargets/clinvar.xml.gz'\n",
    "clinvar = ClinVarDataset(clinvar_xml)"
   ]
  },
  {
   "cell_type": "code",
   "execution_count": 23,
   "id": "ce62f69e",
   "metadata": {
    "scrolled": false
   },
   "outputs": [],
   "source": [
    "# Count: has target gene, has SO term, has neither\n",
    "counts = Counter()\n",
    "for record in clinvar:\n",
    "    annotated = False\n",
    "    if record.measure:\n",
    "        so_elts = find_elements(record.measure.measure_xml, './AttributeSet/XRef[@DB=\"Sequence Ontology\"]')\n",
    "        if so_elts:\n",
    "            # so_term = so_elts[0].attrib['ID']\n",
    "            counts['has_consequences'] += 1\n",
    "            annotated = True\n",
    "        if record.measure.hgnc_ids:\n",
    "            counts['has_hgnc'] += 1\n",
    "            annotated = True\n",
    "    if not annotated:\n",
    "        counts['none'] += 1"
   ]
  },
  {
   "cell_type": "code",
   "execution_count": 40,
   "id": "d5bedc63",
   "metadata": {},
   "outputs": [],
   "source": [
    "def get_values(counter, keys):\n",
    "    return [counter.get(k, 0) for k in keys]\n",
    "\n",
    "\n",
    "def print_counter(counter, keys=None):\n",
    "    if not keys:\n",
    "        keys = counter.keys()\n",
    "    l = len(max(keys, key=lambda x: len(x)))\n",
    "    for k, v in zip(keys, get_values(counter, keys)):\n",
    "        print(f'{k: <{l}} {v}')\n",
    "        \n",
    "\n",
    "def plot_counter(counter, title, keys=None):\n",
    "    if not keys:\n",
    "        keys = counter.keys()\n",
    "    plt.figure(figsize=(15,10))\n",
    "    plt.title(title)\n",
    "    bars = plt.bar(keys, get_values(counter, keys))\n",
    "    plt.bar_label(bars, padding=3)"
   ]
  },
  {
   "cell_type": "code",
   "execution_count": 41,
   "id": "d36ab885",
   "metadata": {},
   "outputs": [
    {
     "name": "stdout",
     "output_type": "stream",
     "text": [
      "has_consequences 2198642\n",
      "has_hgnc         2285631\n",
      "none             16665\n"
     ]
    }
   ],
   "source": [
    "print_counter(counts)"
   ]
  },
  {
   "cell_type": "code",
   "execution_count": 20,
   "id": "c1aec19c",
   "metadata": {},
   "outputs": [],
   "source": [
    "# from metrics\n",
    "num_rcvs = 2302323  # verified same as count direct from XML\n",
    "missing_conseq = 20598"
   ]
  },
  {
   "cell_type": "code",
   "execution_count": 25,
   "id": "5068ecfe",
   "metadata": {},
   "outputs": [
    {
     "data": {
      "text/plain": [
       "0.9549667878920551"
      ]
     },
     "execution_count": 25,
     "metadata": {},
     "output_type": "execute_result"
    }
   ],
   "source": [
    "# ClinVar's coverage of consequences\n",
    "counts['has_consequences'] / num_rcvs"
   ]
  },
  {
   "cell_type": "code",
   "execution_count": 21,
   "id": "1f930b46",
   "metadata": {
    "scrolled": false
   },
   "outputs": [
    {
     "data": {
      "text/plain": [
       "0.9910533839083395"
      ]
     },
     "execution_count": 21,
     "metadata": {},
     "output_type": "execute_result"
    }
   ],
   "source": [
    "# Our coverage of consequences\n",
    "(num_rcvs - missing_conseq) / num_rcvs"
   ]
  },
  {
   "cell_type": "markdown",
   "id": "2cd249e7",
   "metadata": {},
   "source": [
    "#### Notes on our processing\n",
    "\n",
    "* we use HGNC id when we query biomart (repeat expansion pipeline) but not for structural or snp consequences\n",
    "* we definitely need to do processing here even if ClinVar coverage is 100% because our downstream usage requires Ensembl gene ids\n",
    "* see also [this (brief) discussion](https://github.com/EBIvariation/eva-opentargets/issues/189#issuecomment-786486333)"
   ]
  },
  {
   "cell_type": "code",
   "execution_count": 13,
   "id": "000233ed",
   "metadata": {},
   "outputs": [],
   "source": [
    "term_counts = Counter()\n",
    "for record in clinvar:\n",
    "    annotated = False\n",
    "    if record.measure:\n",
    "        so_elts = find_elements(record.measure.measure_xml, './AttributeSet/XRef[@DB=\"Sequence Ontology\"]')\n",
    "        if so_elts:\n",
    "            so_terms = [elt.attrib['ID'] for elt in so_elts]\n",
    "            term_counts.update(so_terms)            "
   ]
  },
  {
   "cell_type": "code",
   "execution_count": 15,
   "id": "c5dc509b",
   "metadata": {},
   "outputs": [],
   "source": [
    "# What's the relationship between these & microsatellites/CNVs/etc (variant types)?\n",
    "repeat_terms = ['SO:0002162', 'SO:0002165']"
   ]
  },
  {
   "cell_type": "code",
   "execution_count": 14,
   "id": "f6c24c32",
   "metadata": {},
   "outputs": [
    {
     "data": {
      "text/plain": [
       "Counter({'SO:0001583': 6607031,\n",
       "         'SO:0001623': 231681,\n",
       "         'SO:0001589': 1583489,\n",
       "         'SO:0001619': 420869,\n",
       "         'SO:0001587': 821551,\n",
       "         'SO:0001627': 1944452,\n",
       "         'SO:0001574': 75734,\n",
       "         'SO:0001575': 100717,\n",
       "         'SO:0001822': 60273,\n",
       "         'SO:0001819': 3028604,\n",
       "         'SO:0001821': 22691,\n",
       "         'SO:0001624': 333397,\n",
       "         'SO:0002317': 9,\n",
       "         'SO:0002054': 832,\n",
       "         'SO:1000117': 86,\n",
       "         'SO:1000064': 34,\n",
       "         'SO:0001582': 10610,\n",
       "         'SO:0001820': 74447,\n",
       "         'SO:0002073': 4002,\n",
       "         'SO:0001578': 4697,\n",
       "         'SO:0001536': 403,\n",
       "         'SO:1000071': 940,\n",
       "         'SO:0001986': 457,\n",
       "         'SO:0001555': 21,\n",
       "         'SO:0001542': 2,\n",
       "         'SO:0002153': 690,\n",
       "         'SO:0002152': 168,\n",
       "         'SO:0002220': 503,\n",
       "         'SO:1000054': 243,\n",
       "         'SO:0001559': 4,\n",
       "         'SO:0001987': 93,\n",
       "         'SO:1000072': 56,\n",
       "         'SO:0001786': 6,\n",
       "         'SO:0002218': 2038,\n",
       "         'SO:1000184': 4,\n",
       "         'SO:0002219': 4756,\n",
       "         'SO:0002053': 192,\n",
       "         'SO:1000070': 4,\n",
       "         'SO:0001541': 25,\n",
       "         'SO:0002052': 47,\n",
       "         'SO:0002316': 3,\n",
       "         'SO:0001561': 5,\n",
       "         'SO:0000683': 2,\n",
       "         'SO:0001565': 2})"
      ]
     },
     "execution_count": 14,
     "metadata": {},
     "output_type": "execute_result"
    }
   ],
   "source": [
    "term_counts"
   ]
  },
  {
   "cell_type": "code",
   "execution_count": 16,
   "id": "bfc513b6",
   "metadata": {},
   "outputs": [
    {
     "data": {
      "text/plain": [
       "44"
      ]
     },
     "execution_count": 16,
     "metadata": {},
     "output_type": "execute_result"
    }
   ],
   "source": [
    "len(term_counts)"
   ]
  },
  {
   "cell_type": "code",
   "execution_count": 18,
   "id": "341a5fdf",
   "metadata": {},
   "outputs": [],
   "source": [
    "vep_terms = {'SO:0001893',\n",
    "'SO:0001574',\n",
    "'SO:0001575',\n",
    "'SO:0001587',\n",
    "'SO:0001589',\n",
    "'SO:0001578',\n",
    "'SO:0002012',\n",
    "'SO:0001889',\n",
    "'SO:0001821',\n",
    "'SO:0001822',\n",
    "'SO:0001583',\n",
    "'SO:0001818',\n",
    "'SO:0001630',\n",
    "'SO:0001787',\n",
    "'SO:0002170',\n",
    "'SO:0002169',\n",
    "'SO:0001626',\n",
    "'SO:0002019',\n",
    "'SO:0001567',\n",
    "'SO:0001819',\n",
    "'SO:0001580',\n",
    "'SO:0001620',\n",
    "'SO:0001623',\n",
    "'SO:0001624',\n",
    "'SO:0001792',\n",
    "'SO:0001627',\n",
    "'SO:0001621',\n",
    "'SO:0001619',\n",
    "'SO:0001631',\n",
    "'SO:0001632',\n",
    "'SO:0001895',\n",
    "'SO:0001892',\n",
    "'SO:0001782',\n",
    "'SO:0001894',\n",
    "'SO:0001891',\n",
    "'SO:0001907',\n",
    "'SO:0001566',\n",
    "'SO:0001906',\n",
    "'SO:0001628'}"
   ]
  },
  {
   "cell_type": "code",
   "execution_count": 19,
   "id": "7643e158",
   "metadata": {},
   "outputs": [],
   "source": [
    "cv_terms = set(term_counts.keys())"
   ]
  },
  {
   "cell_type": "code",
   "execution_count": 20,
   "id": "82aa9fb0",
   "metadata": {},
   "outputs": [
    {
     "data": {
      "text/plain": [
       "39"
      ]
     },
     "execution_count": 20,
     "metadata": {},
     "output_type": "execute_result"
    }
   ],
   "source": [
    "len(vep_terms)"
   ]
  },
  {
   "cell_type": "code",
   "execution_count": 21,
   "id": "c64f875a",
   "metadata": {},
   "outputs": [
    {
     "data": {
      "text/plain": [
       "44"
      ]
     },
     "execution_count": 21,
     "metadata": {},
     "output_type": "execute_result"
    }
   ],
   "source": [
    "len(cv_terms)"
   ]
  },
  {
   "cell_type": "code",
   "execution_count": 24,
   "id": "bcba1308",
   "metadata": {},
   "outputs": [
    {
     "data": {
      "text/plain": [
       "{'SO:0000683',\n",
       " 'SO:0001536',\n",
       " 'SO:0001541',\n",
       " 'SO:0001542',\n",
       " 'SO:0001555',\n",
       " 'SO:0001559',\n",
       " 'SO:0001561',\n",
       " 'SO:0001565',\n",
       " 'SO:0001582',\n",
       " 'SO:0001786',\n",
       " 'SO:0001820',\n",
       " 'SO:0001986',\n",
       " 'SO:0001987',\n",
       " 'SO:0002052',\n",
       " 'SO:0002053',\n",
       " 'SO:0002054',\n",
       " 'SO:0002073',\n",
       " 'SO:0002152',\n",
       " 'SO:0002153',\n",
       " 'SO:0002218',\n",
       " 'SO:0002219',\n",
       " 'SO:0002220',\n",
       " 'SO:0002316',\n",
       " 'SO:0002317',\n",
       " 'SO:1000054',\n",
       " 'SO:1000064',\n",
       " 'SO:1000070',\n",
       " 'SO:1000071',\n",
       " 'SO:1000072',\n",
       " 'SO:1000117',\n",
       " 'SO:1000184'}"
      ]
     },
     "execution_count": 24,
     "metadata": {},
     "output_type": "execute_result"
    }
   ],
   "source": [
    "cv_terms - vep_terms"
   ]
  },
  {
   "cell_type": "code",
   "execution_count": 25,
   "id": "eb4bedff",
   "metadata": {},
   "outputs": [
    {
     "data": {
      "text/plain": [
       "{'SO:0001566',\n",
       " 'SO:0001567',\n",
       " 'SO:0001580',\n",
       " 'SO:0001620',\n",
       " 'SO:0001621',\n",
       " 'SO:0001626',\n",
       " 'SO:0001628',\n",
       " 'SO:0001630',\n",
       " 'SO:0001631',\n",
       " 'SO:0001632',\n",
       " 'SO:0001782',\n",
       " 'SO:0001787',\n",
       " 'SO:0001792',\n",
       " 'SO:0001818',\n",
       " 'SO:0001889',\n",
       " 'SO:0001891',\n",
       " 'SO:0001892',\n",
       " 'SO:0001893',\n",
       " 'SO:0001894',\n",
       " 'SO:0001895',\n",
       " 'SO:0001906',\n",
       " 'SO:0001907',\n",
       " 'SO:0002012',\n",
       " 'SO:0002019',\n",
       " 'SO:0002169',\n",
       " 'SO:0002170'}"
      ]
     },
     "execution_count": 25,
     "metadata": {},
     "output_type": "execute_result"
    }
   ],
   "source": [
    "vep_terms - cv_terms"
   ]
  },
  {
   "cell_type": "code",
   "execution_count": 28,
   "id": "ecd8ae8e",
   "metadata": {},
   "outputs": [
    {
     "data": {
      "text/plain": [
       "{'SO:0001574',\n",
       " 'SO:0001575',\n",
       " 'SO:0001578',\n",
       " 'SO:0001583',\n",
       " 'SO:0001587',\n",
       " 'SO:0001589',\n",
       " 'SO:0001619',\n",
       " 'SO:0001623',\n",
       " 'SO:0001624',\n",
       " 'SO:0001627',\n",
       " 'SO:0001819',\n",
       " 'SO:0001821',\n",
       " 'SO:0001822'}"
      ]
     },
     "execution_count": 28,
     "metadata": {},
     "output_type": "execute_result"
    }
   ],
   "source": [
    "cv_terms.intersection(vep_terms)"
   ]
  },
  {
   "cell_type": "markdown",
   "id": "dc3b4421",
   "metadata": {},
   "source": [
    "Ontology\n",
    "\n",
    "- if obsolete, ok\n",
    "- if not, ours need to be \"better\" - EFO, more specific/accurate, etc. (do this later)\n",
    "\n",
    "Sequence Ontology / consequences\n",
    "- can check if obsolete\n",
    "- if not, compare our annotations\n",
    "- e.g. sample 1000, take molecular consequence from clinvar & functional consequences from ours & visually inspect differences in precision, etc.\n"
   ]
  },
  {
   "cell_type": "code",
   "execution_count": 46,
   "id": "2f17f10c",
   "metadata": {},
   "outputs": [
    {
     "name": "stdout",
     "output_type": "stream",
     "text": [
      "missense variant\n",
      "SO:0001583\n"
     ]
    }
   ],
   "source": [
    "for record in clinvar:\n",
    "    if record.measure:\n",
    "        for attr_elt in find_elements(record.measure.measure_xml, './AttributeSet'):\n",
    "            for conseq_elt in find_elements(attr_elt, './Attribute[@Type=\"MolecularConsequence\"]'):\n",
    "                conseq_text = conseq_elt.text\n",
    "                so_elt = find_mandatory_unique_element(attr_elt, './XRef[@DB=\"Sequence Ontology\"]')\n",
    "                so_term = so_elt.attrib['ID']\n",
    "                print(conseq_text)\n",
    "                print(so_term)\n",
    "    break"
   ]
  },
  {
   "cell_type": "code",
   "execution_count": null,
   "id": "d2645b18",
   "metadata": {},
   "outputs": [],
   "source": []
  }
 ],
 "metadata": {
  "kernelspec": {
   "display_name": "Python 3 (ipykernel)",
   "language": "python",
   "name": "python3"
  },
  "language_info": {
   "codemirror_mode": {
    "name": "ipython",
    "version": 3
   },
   "file_extension": ".py",
   "mimetype": "text/x-python",
   "name": "python",
   "nbconvert_exporter": "python",
   "pygments_lexer": "ipython3",
   "version": "3.8.10"
  }
 },
 "nbformat": 4,
 "nbformat_minor": 5
}
