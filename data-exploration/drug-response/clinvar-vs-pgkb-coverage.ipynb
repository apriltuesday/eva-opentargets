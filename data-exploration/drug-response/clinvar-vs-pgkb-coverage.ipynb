{
 "cells": [
  {
   "cell_type": "code",
   "execution_count": 1,
   "id": "886c337e-e5e8-43cc-839d-2d8a50bc24f6",
   "metadata": {},
   "outputs": [],
   "source": [
    "import sys\n",
    "\n",
    "sys.path.append('..')"
   ]
  },
  {
   "cell_type": "code",
   "execution_count": 2,
   "id": "95d473aa-8437-449f-94c8-2d1f5858eede",
   "metadata": {},
   "outputs": [],
   "source": [
    "from filter_clinvar_xml import filter_xml, pprint\n",
    "from cmat.clinvar_xml_io import *\n",
    "from cmat.clinvar_xml_io.clinical_classification import MultipleClinicalClassificationsError\n",
    "from cmat.output_generation import consequence_type as CT\n",
    "from cmat.output_generation.clinvar_to_evidence_strings import get_consequence_types\n",
    "from cmat.clinvar_xml_io.xml_parsing import *"
   ]
  },
  {
   "cell_type": "code",
   "execution_count": 3,
   "id": "4eb2f40c-6add-440d-b8cc-0565cd0ff410",
   "metadata": {},
   "outputs": [],
   "source": [
    "from opentargets_pharmgkb.evidence_generation import *\n",
    "from opentargets_pharmgkb.pandas_utils import read_tsv_to_df"
   ]
  },
  {
   "cell_type": "code",
   "execution_count": 24,
   "id": "63e55df1-9b9e-4f5e-8707-6206a45a8be9",
   "metadata": {},
   "outputs": [],
   "source": [
    "import pandas as pd\n",
    "from collections import Counter"
   ]
  },
  {
   "cell_type": "code",
   "execution_count": 5,
   "id": "0671e185-646b-48d3-b34e-3b3b2b0a868f",
   "metadata": {},
   "outputs": [],
   "source": [
    "pd.set_option('display.max_columns', None)\n",
    "pd.set_option('display.max_rows', 100)\n",
    "pd.set_option('display.max_colwidth', None)"
   ]
  },
  {
   "cell_type": "markdown",
   "id": "c2068d0c-cd48-4701-8b29-02fe9c1faf2e",
   "metadata": {},
   "source": [
    "### Prepare data"
   ]
  },
  {
   "cell_type": "code",
   "execution_count": 6,
   "id": "36bb4a0b-98a5-4333-acb2-eec934ede7b5",
   "metadata": {},
   "outputs": [],
   "source": [
    "data_dir = '/home/april/projects/opentargets/drug-response'"
   ]
  },
  {
   "cell_type": "code",
   "execution_count": null,
   "id": "4f226977-76be-4964-b36a-7fd702aad9e2",
   "metadata": {},
   "outputs": [],
   "source": [
    "# Download fresh ClinVar data\n",
    "!wget -O {data_dir}/clinvar.xml.gz https://ftp.ncbi.nlm.nih.gov/pub/clinvar/xml/RCV_release/ClinVarRCVRelease_00-latest.xml.gz"
   ]
  },
  {
   "cell_type": "code",
   "execution_count": null,
   "id": "afdf6bf6-91a1-4f1e-813d-1c31f40de927",
   "metadata": {},
   "outputs": [],
   "source": [
    "# Download fresh PGKB data\n",
    "!wget -q https://api.pharmgkb.org/v1/download/file/data/clinicalAnnotations.zip\n",
    "!wget -q https://api.pharmgkb.org/v1/download/file/data/variants.zip\n",
    "!wget -q https://api.pharmgkb.org/v1/download/file/data/relationships.zip\n",
    "\n",
    "!unzip -j clinicalAnnotations.zip \"*.tsv\" -d {data_dir}\n",
    "!unzip -j variants.zip \"*.tsv\" -d {data_dir}\n",
    "!unzip -j relationships.zip \"*.tsv\" -d {data_dir}\n",
    "!rm clinicalAnnotations.zip variants.zip relationships.zip"
   ]
  },
  {
   "cell_type": "code",
   "execution_count": 7,
   "id": "e878f8a5-a2ac-4b37-a5d3-b5598aed560b",
   "metadata": {},
   "outputs": [],
   "source": [
    "drug_response_xml = f'{data_dir}/drug-response.xml.gz'"
   ]
  },
  {
   "cell_type": "code",
   "execution_count": 7,
   "id": "09f4398d-599d-491d-824d-08d896c35480",
   "metadata": {},
   "outputs": [],
   "source": [
    "def drug_response(x):\n",
    "    try:\n",
    "        return 'drug response' in x.clinical_significance_list or x.trait_set_type == 'DrugResponse'\n",
    "    except MultipleClinicalClassificationsError:\n",
    "        return False"
   ]
  },
  {
   "cell_type": "code",
   "execution_count": 8,
   "id": "0ee15b2e-5282-4215-837b-d40095e74fb0",
   "metadata": {},
   "outputs": [
    {
     "name": "stderr",
     "output_type": "stream",
     "text": [
      "INFO:filter_clinvar_xml:Records written: 5148\n"
     ]
    }
   ],
   "source": [
    "filter_xml(\n",
    "    input_xml=f'{data_dir}/clinvar.xml.gz',\n",
    "    output_xml=drug_response_xml,\n",
    "    filter_fct=drug_response,\n",
    "    max_num=None\n",
    ")"
   ]
  },
  {
   "cell_type": "markdown",
   "id": "ea21eb2e-1907-4117-9ed5-b46fd429bf73",
   "metadata": {},
   "source": [
    "### Compare genes"
   ]
  },
  {
   "cell_type": "markdown",
   "id": "7a38d485-efd4-4ecc-ae8a-3530292d504a",
   "metadata": {},
   "source": [
    "#### ClinVar genes\n",
    "\n",
    "First run the annotation pipeline on the drug response XML, then can use the combined consequences file."
   ]
  },
  {
   "cell_type": "code",
   "execution_count": null,
   "id": "46814895-90f1-4ce1-80ce-8e869501e1e8",
   "metadata": {
    "scrolled": true
   },
   "outputs": [],
   "source": [
    "# Had to resume a couple times, output removed\n",
    "!nextflow run ../../pipelines/annotation_pipeline.nf --output_dir {data_dir} --clinvar {drug_response_xml} -resume"
   ]
  },
  {
   "cell_type": "code",
   "execution_count": 8,
   "id": "11661e3c-fa95-4648-a10a-bca113550322",
   "metadata": {},
   "outputs": [
    {
     "name": "stderr",
     "output_type": "stream",
     "text": [
      "INFO:cmat.output_generation:Loading mapping rs -> ENSG/SOterms\n",
      "INFO:cmat.output_generation:2253 rs->ENSG/SOterms mappings loaded\n"
     ]
    }
   ],
   "source": [
    "# Map from variant IDs from ClinVar (can be RCV) to genes & consequence terms\n",
    "clinvar_variant_to_gene_mappings = CT.process_consequence_type_file(f'{data_dir}/gene_mapping/consequences_combined.tsv')"
   ]
  },
  {
   "cell_type": "code",
   "execution_count": 9,
   "id": "b940aab3-9872-425d-a8ff-05b4468d8f18",
   "metadata": {},
   "outputs": [],
   "source": [
    "# All clinvar genes as a set\n",
    "clinvar_genes = {\n",
    "    conseq.ensembl_gene_id\n",
    "    for k, v in clinvar_variant_to_gene_mappings.items()\n",
    "    for conseq in v\n",
    "}"
   ]
  },
  {
   "cell_type": "code",
   "execution_count": 10,
   "id": "0405f550-2b5e-4a59-a414-eef6a710f3f4",
   "metadata": {},
   "outputs": [
    {
     "data": {
      "text/plain": [
       "154"
      ]
     },
     "execution_count": 10,
     "metadata": {},
     "output_type": "execute_result"
    }
   ],
   "source": [
    "len(clinvar_genes)"
   ]
  },
  {
   "cell_type": "code",
   "execution_count": 44,
   "id": "c4d859bc-9af2-4510-8752-13f17b485a4b",
   "metadata": {},
   "outputs": [
    {
     "data": {
      "text/plain": [
       "2253"
      ]
     },
     "execution_count": 44,
     "metadata": {},
     "output_type": "execute_result"
    }
   ],
   "source": [
    "len(clinvar_variant_to_gene_mappings)"
   ]
  },
  {
   "cell_type": "markdown",
   "id": "4b19c8eb-d4fe-404e-902a-d9a793ad8c60",
   "metadata": {},
   "source": [
    "#### PGKB genes"
   ]
  },
  {
   "cell_type": "code",
   "execution_count": 9,
   "id": "1da87bf8-cdcf-4c25-a3b3-e96e99d9bcef",
   "metadata": {},
   "outputs": [],
   "source": [
    "fasta_path = '/home/april/projects/opentargets/pharmgkb/assembly/GCF_000001405.40_GRCh38.p14_genomic.fna'\n",
    "\n",
    "# Load tables\n",
    "clinical_annot_path = os.path.join(data_dir, 'clinical_annotations.tsv')\n",
    "clinical_alleles_path = os.path.join(data_dir, 'clinical_ann_alleles.tsv')\n",
    "clinical_evidence_path = os.path.join(data_dir, 'clinical_ann_evidence.tsv')\n",
    "variants_path = os.path.join(data_dir, 'variants.tsv')\n",
    "relationships_path = os.path.join(data_dir, 'relationships.tsv')\n",
    "\n",
    "clinical_annot_table = read_tsv_to_df(clinical_annot_path)\n",
    "clinical_alleles_table = read_tsv_to_df(clinical_alleles_path)\n",
    "clinical_evidence_table = read_tsv_to_df(clinical_evidence_path)\n",
    "variants_table = read_tsv_to_df(variants_path)\n",
    "relationships_table = read_tsv_to_df(relationships_path)"
   ]
  },
  {
   "cell_type": "code",
   "execution_count": 51,
   "id": "80c9ef27-d016-473f-905d-78877677139f",
   "metadata": {},
   "outputs": [
    {
     "data": {
      "text/plain": [
       "5176"
      ]
     },
     "execution_count": 51,
     "metadata": {},
     "output_type": "execute_result"
    }
   ],
   "source": [
    "len(clinical_annot_table)"
   ]
  },
  {
   "cell_type": "code",
   "execution_count": null,
   "id": "d67829ec-6655-4394-bbdd-fde32ab448a7",
   "metadata": {},
   "outputs": [],
   "source": [
    "# Main processing - derived from evidence generation pipeline\n",
    "merged_with_variants_table = pd.merge(clinical_annot_table, variants_table, left_on='Variant/Haplotypes',\n",
    "                                      right_on='Variant Name', how='left')\n",
    "merged_with_alleles_table = pd.merge(merged_with_variants_table, clinical_alleles_table, on=ID_COL_NAME, how='left')\n",
    "\n",
    "with_rs, no_rs = split_df_with_or_without_rs(merged_with_alleles_table)\n",
    "\n",
    "# BRANCH 1: For rsIds, form genotype IDs + get consequences from VEP\n",
    "genotype_ids_table = get_genotype_ids(with_rs, fasta_path)\n",
    "rs_consequences_table = get_functional_consequences(genotype_ids_table)\n",
    "\n",
    "# BRANCH 2: For named alleles, form haplotype IDs + map PGKB genes with Biomart\n",
    "haplotype_ids_table = get_haplotype_ids(no_rs, relationships_table)"
   ]
  },
  {
   "cell_type": "code",
   "execution_count": 13,
   "id": "8c316f96-33b1-4b99-84aa-92a6a8b5f6db",
   "metadata": {},
   "outputs": [],
   "source": [
    "# debug dump\n",
    "rs_consequences_table.to_csv(f'{data_dir}/pgkb_rs_consequences.csv')"
   ]
  },
  {
   "cell_type": "code",
   "execution_count": 17,
   "id": "b97c2022-0adf-4933-b6ee-8ae1d99491b5",
   "metadata": {},
   "outputs": [
    {
     "name": "stderr",
     "output_type": "stream",
     "text": [
      "INFO:cmat.consequence_prediction.common.biomart:Processing chunk of 35 records\n"
     ]
    }
   ],
   "source": [
    "# Rerun after biomart back up\n",
    "no_rs_genes_table = explode_and_map_genes(haplotype_ids_table)\n",
    "\n",
    "# debug dump\n",
    "no_rs_genes_table.to_csv(f'{data_dir}/pgkb_star_consequences.csv')"
   ]
  },
  {
   "cell_type": "code",
   "execution_count": 13,
   "id": "6259f0ad-8e66-424b-a248-432aad7f9f8b",
   "metadata": {},
   "outputs": [],
   "source": [
    "# To load from file instead of re-running\n",
    "rs_consequences_table = pd.read_csv(f'{data_dir}/pgkb_rs_consequences.csv')\n",
    "no_rs_genes_table = pd.read_csv(f'{data_dir}/pgkb_star_consequences.csv')"
   ]
  },
  {
   "cell_type": "code",
   "execution_count": 14,
   "id": "757e1660-5dc9-45ce-9c33-6267a7a4b34d",
   "metadata": {
    "scrolled": true
   },
   "outputs": [],
   "source": [
    "# Merge the tables - will fill in NaNs where columns are missing\n",
    "consequences_table = pd.concat((rs_consequences_table, no_rs_genes_table))"
   ]
  },
  {
   "cell_type": "code",
   "execution_count": 15,
   "id": "2a057ab8-c6db-4c23-bedb-17ccc35ed101",
   "metadata": {},
   "outputs": [],
   "source": [
    "# Get relevant columns - genotype IDs, haplotype IDs, genes from VEP and genes from PGKB\n",
    "pgkb_consequences_table = consequences_table[[ID_COL_NAME, 'Variant/Haplotypes', 'genotype_id', 'overlapping_gene', 'consequence_term', 'haplotype_id', 'gene_from_pgkb']]"
   ]
  },
  {
   "cell_type": "code",
   "execution_count": 16,
   "id": "10a9e9e4-a322-4e5b-ba74-c1d008d507d5",
   "metadata": {},
   "outputs": [],
   "source": [
    "# All PGKB genes as a set\n",
    "pgkb_genes = set(pgkb_consequences_table.overlapping_gene.dropna().to_list()) | set(pgkb_consequences_table.gene_from_pgkb.dropna().to_list())"
   ]
  },
  {
   "cell_type": "code",
   "execution_count": 17,
   "id": "91e60a02-35fd-41fc-9fc3-07e956c5bd93",
   "metadata": {},
   "outputs": [
    {
     "data": {
      "text/plain": [
       "1135"
      ]
     },
     "execution_count": 17,
     "metadata": {},
     "output_type": "execute_result"
    }
   ],
   "source": [
    "len(pgkb_genes)"
   ]
  },
  {
   "cell_type": "code",
   "execution_count": 43,
   "id": "8f652a80-68aa-49b9-97f8-f104977aa387",
   "metadata": {},
   "outputs": [
    {
     "data": {
      "text/plain": [
       "(21870, 7)"
      ]
     },
     "execution_count": 43,
     "metadata": {},
     "output_type": "execute_result"
    }
   ],
   "source": [
    "pgkb_consequences_table.shape"
   ]
  },
  {
   "cell_type": "markdown",
   "id": "b1ff9eb8-f436-47cd-a63d-f17325328911",
   "metadata": {},
   "source": [
    "#### Comparison"
   ]
  },
  {
   "cell_type": "code",
   "execution_count": 19,
   "id": "d935eb1e-b5bb-4975-9622-24f4af9eecbc",
   "metadata": {},
   "outputs": [],
   "source": [
    "genes_in_clinvar_not_pgkb = clinvar_genes - pgkb_genes"
   ]
  },
  {
   "cell_type": "code",
   "execution_count": 20,
   "id": "396eee77-b774-4fe5-8457-e9c7d5a16b7e",
   "metadata": {},
   "outputs": [],
   "source": [
    "genes_in_pgkb_not_clinvar = pgkb_genes - clinvar_genes"
   ]
  },
  {
   "cell_type": "code",
   "execution_count": 49,
   "id": "902b7030-56c7-4719-9453-fbcb46f37c3b",
   "metadata": {},
   "outputs": [
    {
     "data": {
      "text/plain": [
       "75"
      ]
     },
     "execution_count": 49,
     "metadata": {},
     "output_type": "execute_result"
    }
   ],
   "source": [
    "len(genes_in_clinvar_not_pgkb)"
   ]
  },
  {
   "cell_type": "code",
   "execution_count": 50,
   "id": "9cba3289-83cc-471a-b57f-73768813091b",
   "metadata": {},
   "outputs": [
    {
     "data": {
      "text/plain": [
       "1056"
      ]
     },
     "execution_count": 50,
     "metadata": {},
     "output_type": "execute_result"
    }
   ],
   "source": [
    "len(genes_in_pgkb_not_clinvar)"
   ]
  },
  {
   "cell_type": "code",
   "execution_count": 107,
   "id": "b4321ec6-a8f3-47e2-93d6-e0f82b800a6f",
   "metadata": {
    "scrolled": true
   },
   "outputs": [
    {
     "data": {
      "text/plain": [
       "{'ENSG00000007372',\n",
       " 'ENSG00000050767',\n",
       " 'ENSG00000066468',\n",
       " 'ENSG00000099810',\n",
       " 'ENSG00000099889',\n",
       " 'ENSG00000100342',\n",
       " 'ENSG00000100416',\n",
       " 'ENSG00000103197',\n",
       " 'ENSG00000104388',\n",
       " 'ENSG00000105186',\n",
       " 'ENSG00000108370',\n",
       " 'ENSG00000108947',\n",
       " 'ENSG00000109911',\n",
       " 'ENSG00000110711',\n",
       " 'ENSG00000115756',\n",
       " 'ENSG00000116218',\n",
       " 'ENSG00000117713',\n",
       " 'ENSG00000129214',\n",
       " 'ENSG00000129244',\n",
       " 'ENSG00000129245',\n",
       " 'ENSG00000130402',\n",
       " 'ENSG00000131759',\n",
       " 'ENSG00000136231',\n",
       " 'ENSG00000136813',\n",
       " 'ENSG00000137672',\n",
       " 'ENSG00000138138',\n",
       " 'ENSG00000140538',\n",
       " 'ENSG00000140650',\n",
       " 'ENSG00000141499',\n",
       " 'ENSG00000141504',\n",
       " 'ENSG00000146592',\n",
       " 'ENSG00000147883',\n",
       " 'ENSG00000147889',\n",
       " 'ENSG00000151490',\n",
       " 'ENSG00000151952',\n",
       " 'ENSG00000157404',\n",
       " 'ENSG00000157483',\n",
       " 'ENSG00000157764',\n",
       " 'ENSG00000163029',\n",
       " 'ENSG00000168546',\n",
       " 'ENSG00000172037',\n",
       " 'ENSG00000173597',\n",
       " 'ENSG00000176399',\n",
       " 'ENSG00000176463',\n",
       " 'ENSG00000177084',\n",
       " 'ENSG00000178295',\n",
       " 'ENSG00000178966',\n",
       " 'ENSG00000181555',\n",
       " 'ENSG00000182185',\n",
       " 'ENSG00000183018',\n",
       " 'ENSG00000183914',\n",
       " 'ENSG00000184719',\n",
       " 'ENSG00000184937',\n",
       " 'ENSG00000185650',\n",
       " 'ENSG00000186326',\n",
       " 'ENSG00000187764',\n",
       " 'ENSG00000188827',\n",
       " 'ENSG00000196376',\n",
       " 'ENSG00000197299',\n",
       " 'ENSG00000198087',\n",
       " 'ENSG00000198763',\n",
       " 'ENSG00000198804',\n",
       " 'ENSG00000198888',\n",
       " 'ENSG00000203485',\n",
       " 'ENSG00000204022',\n",
       " 'ENSG00000211448',\n",
       " 'ENSG00000211452',\n",
       " 'ENSG00000213281',\n",
       " 'ENSG00000215301',\n",
       " 'ENSG00000227268',\n",
       " 'ENSG00000257138',\n",
       " 'ENSG00000257335',\n",
       " 'ENSG00000284031',\n",
       " 'ENSG00000286522',\n",
       " 'ENSG00000289051'}"
      ]
     },
     "execution_count": 107,
     "metadata": {},
     "output_type": "execute_result"
    }
   ],
   "source": [
    "genes_in_clinvar_not_pgkb"
   ]
  },
  {
   "cell_type": "code",
   "execution_count": 61,
   "id": "738adfe2-bf0f-4cbe-91ed-48ed855554b6",
   "metadata": {},
   "outputs": [],
   "source": [
    "# Find the ClinVar record associated with ZFP36L1 (one gene in clinvar not in pgkb)\n",
    "for clinvar_set in ClinVarDataset(drug_response_xml).iter_cvs():\n",
    "    if clinvar_set.rcv.accession == 'RCV000626430':\n",
    "        break"
   ]
  },
  {
   "cell_type": "code",
   "execution_count": 64,
   "id": "01cf4925-c723-40d6-8af4-28347f623c54",
   "metadata": {},
   "outputs": [
    {
     "name": "stdout",
     "output_type": "stream",
     "text": [
      "<Trait ID=\"37030\" Type=\"DrugResponse\">\n",
      "        <Name>\n",
      "          <ElementValue Type=\"Preferred\">Poly (ADP-Ribose) polymerase inhibitor response</ElementValue>\n",
      "        </Name>\n",
      "        <Name>\n",
      "          <ElementValue Type=\"Alternate\">PARP Inhibitor response</ElementValue>\n",
      "        </Name>\n",
      "        <XRef ID=\"CN322715\" DB=\"MedGen\" />\n",
      "      </Trait>\n",
      "    \n"
     ]
    }
   ],
   "source": [
    "pprint(clinvar_set.rcv.traits[0].trait_xml)"
   ]
  },
  {
   "cell_type": "code",
   "execution_count": 67,
   "id": "fca252fe-8d16-4343-b479-eb4623d83d19",
   "metadata": {},
   "outputs": [
    {
     "name": "stdout",
     "output_type": "stream",
     "text": [
      "<Trait Type=\"DrugResponse\">\n",
      "        <Name>\n",
      "          <ElementValue Type=\"Preferred\">PARP Inhibitor response</ElementValue>\n",
      "        </Name>\n",
      "        <TraitRelationship Type=\"DrugResponseAndDisease\">\n",
      "          <Name>\n",
      "            <ElementValue Type=\"Preferred\">Cancer</ElementValue>\n",
      "          </Name>\n",
      "        </TraitRelationship>\n",
      "      </Trait>\n",
      "    \n"
     ]
    }
   ],
   "source": [
    "pprint(clinvar_set.scvs[0].traits[0].trait_xml)"
   ]
  },
  {
   "cell_type": "code",
   "execution_count": 11,
   "id": "c91c5604-8afc-4f21-b479-db3e0a6724bb",
   "metadata": {},
   "outputs": [],
   "source": [
    "drug_response_dataset = ClinVarDataset(drug_response_xml)"
   ]
  },
  {
   "cell_type": "code",
   "execution_count": 25,
   "id": "46abafd9-a246-4a3d-bf32-6fa336d23700",
   "metadata": {},
   "outputs": [
    {
     "name": "stderr",
     "output_type": "stream",
     "text": [
      "WARNING:cmat.output_generation:Skipping variant NC_000017.11:g.7603519_7768486del with 8 target genes\n",
      "WARNING:cmat.output_generation:Skipping variant NC_000010.11:g.87830830_88617225del with 6 target genes\n"
     ]
    }
   ],
   "source": [
    "# Get number of records (RCVs) associated with genes not in PGKB\n",
    "rcvs_for_genes_not_in_pgkb = []\n",
    "categories = Counter()\n",
    "for record in drug_response_dataset:\n",
    "    if record.measure:\n",
    "        consequences, category = get_consequence_types(record.measure, clinvar_variant_to_gene_mappings)\n",
    "        genes = {conseq.ensembl_gene_id for conseq in consequences}\n",
    "        if genes & genes_in_clinvar_not_pgkb:\n",
    "            rcvs_for_genes_not_in_pgkb.append(record.accession)\n",
    "            categories[category] += 1"
   ]
  },
  {
   "cell_type": "code",
   "execution_count": 26,
   "id": "9a130c9d-5272-4219-9b84-5e3b793c1ee6",
   "metadata": {},
   "outputs": [
    {
     "data": {
      "text/plain": [
       "Counter({'SIMPLE': 346, 'COMPLEX': 3})"
      ]
     },
     "execution_count": 26,
     "metadata": {},
     "output_type": "execute_result"
    }
   ],
   "source": [
    "categories"
   ]
  },
  {
   "cell_type": "code",
   "execution_count": 27,
   "id": "8ea23fe0-6c45-46f9-9d97-e40aec054652",
   "metadata": {},
   "outputs": [
    {
     "data": {
      "text/plain": [
       "349"
      ]
     },
     "execution_count": 27,
     "metadata": {},
     "output_type": "execute_result"
    }
   ],
   "source": [
    "len(rcvs_for_genes_not_in_pgkb)"
   ]
  },
  {
   "cell_type": "code",
   "execution_count": 110,
   "id": "1b046521-397e-42ec-afd1-9b819c05e6a6",
   "metadata": {},
   "outputs": [
    {
     "data": {
      "text/plain": [
       "0.08644133644133645"
      ]
     },
     "execution_count": 110,
     "metadata": {},
     "output_type": "execute_result"
    }
   ],
   "source": [
    "445/5148"
   ]
  },
  {
   "cell_type": "markdown",
   "id": "9aa15a21-63fd-4414-8d2d-d09bdc85ef23",
   "metadata": {},
   "source": [
    "* Drug response records in ClinVar (RCVs): 5148\n",
    "* Clinical annotations in PGKB: 5176\n",
    "* Genes in ClinVar: 154\n",
    "* Genes in PGKB: 1135\n",
    "* Genes in ClinVar that are not in PGKB: 75\n",
    "    * Associated RCVs: 349\n",
    "\n",
    "In summary, `75/154 = 48.7%` of target genes covered by ClinVar drug response records are not present in PGKB. But this corresponds to only `349/5148 = 6.8%` of all drug response records in ClinVar.\n",
    "\n",
    "Example: [ZFP36L1](https://www.ensembl.org/Homo_sapiens/Gene/Summary?g=ENSG00000185650;r=14:68787660-68796253)\n",
    "* No data in [PGKB](https://www.pharmgkb.org/gene/PA35027/overview)\n",
    "* Record in [ClinVar](https://www.ncbi.nlm.nih.gov/clinvar/variation/523157/)\n",
    "\n",
    "Another example: [DIO1](https://www.ensembl.org/Homo_sapiens/Gene/Summary?db=core;g=ENSG00000211452;r=1:53891239-53911086)\n",
    "* Variant annotations but NOT clinical annotations in [PGKB](https://www.pharmgkb.org/gene/PA27337/overview)\n",
    "* Record in [ClinVar](https://www.ncbi.nlm.nih.gov/clinvar/variation/2573328/)"
   ]
  },
  {
   "cell_type": "markdown",
   "id": "ab58cf07-2fac-47a5-97ac-96c5a59e17b1",
   "metadata": {},
   "source": [
    "### PGKB/ClinVar overlap"
   ]
  },
  {
   "cell_type": "code",
   "execution_count": 29,
   "id": "47436c4b-0ee6-4378-91d5-da1f17ae669c",
   "metadata": {},
   "outputs": [],
   "source": [
    "pgkb_subs_in_clinvar = []\n",
    "for record in drug_response_dataset.iter_cvs():\n",
    "    if any('pharmgkb' in scv.submitter.lower() for scv in record.scvs):\n",
    "        pgkb_subs_in_clinvar.append(record.rcv)"
   ]
  },
  {
   "cell_type": "code",
   "execution_count": 30,
   "id": "6708a4a3-6d36-4cee-8277-cbed35e6e1fb",
   "metadata": {},
   "outputs": [
    {
     "data": {
      "text/plain": [
       "445"
      ]
     },
     "execution_count": 30,
     "metadata": {},
     "output_type": "execute_result"
    }
   ],
   "source": [
    "len(pgkb_subs_in_clinvar)"
   ]
  },
  {
   "cell_type": "code",
   "execution_count": 101,
   "id": "5f4e438e-132a-4121-9757-ce867b5912d2",
   "metadata": {},
   "outputs": [],
   "source": [
    "# Records without measure really means the measure type is not \"Variant\" in ClinVar\n",
    "pgkb_records_without_measure = [record for record in pgkb_subs_in_clinvar if record.measure is None]"
   ]
  },
  {
   "cell_type": "code",
   "execution_count": 102,
   "id": "15220374-ca60-44b9-a1a2-570c657e5676",
   "metadata": {},
   "outputs": [
    {
     "data": {
      "text/plain": [
       "0"
      ]
     },
     "execution_count": 102,
     "metadata": {},
     "output_type": "execute_result"
    }
   ],
   "source": [
    "len(pgkb_records_without_measure)"
   ]
  },
  {
   "cell_type": "code",
   "execution_count": 163,
   "id": "34c7da8a-734f-4906-be60-ad05aa4f7cf3",
   "metadata": {},
   "outputs": [],
   "source": [
    "# Check for PGKB xref\n",
    "rcv_to_caid = {}\n",
    "for record in pgkb_subs_in_clinvar:\n",
    "    elts = find_elements(record.measure.measure_xml, './XRef[@DB=\"PharmGKB Clinical Annotation\"]')\n",
    "    if elts:\n",
    "        rcv_to_caid[record.accession] = [elt.attrib['ID'] for elt in elts]"
   ]
  },
  {
   "cell_type": "code",
   "execution_count": 164,
   "id": "62be818a-c2ae-429a-97f9-cabcf138275a",
   "metadata": {},
   "outputs": [
    {
     "data": {
      "text/plain": [
       "78"
      ]
     },
     "execution_count": 164,
     "metadata": {},
     "output_type": "execute_result"
    }
   ],
   "source": [
    "len(rcv_to_caid)"
   ]
  },
  {
   "cell_type": "code",
   "execution_count": 165,
   "id": "47a4ae21-84f2-46d4-a9b5-52160cc3f984",
   "metadata": {
    "scrolled": true
   },
   "outputs": [
    {
     "data": {
      "text/plain": [
       "{'RCV000211406': ['655385024'],\n",
       " 'RCV000211192': ['1183888959', '981239773'],\n",
       " 'RCV000211273': ['982035703'],\n",
       " 'RCV000211316': ['1183888959', '981239773'],\n",
       " 'RCV000211369': ['655385028'],\n",
       " 'RCV001787697': ['1183491425', '1183491446'],\n",
       " 'RCV000211256': ['1183960780'],\n",
       " 'RCV000211326': ['981202609'],\n",
       " 'RCV000211346': ['1183960766'],\n",
       " 'RCV000211255': ['1183960790'],\n",
       " 'RCV000211163': ['982030805'],\n",
       " 'RCV001787915': ['981201535'],\n",
       " 'RCV001787916': ['981201535'],\n",
       " 'RCV001788073': ['982030805'],\n",
       " 'RCV000211190': ['982030369'],\n",
       " 'RCV000211129': ['1183960775'],\n",
       " 'RCV000211144': ['1184661194', '1184661207', '655385400'],\n",
       " 'RCV000211147': ['1183704228', '655385392'],\n",
       " 'RCV000211149': ['613978931', '613978937'],\n",
       " 'RCV000211150': ['1183960795'],\n",
       " 'RCV000211178': ['1183492249'],\n",
       " 'RCV000211184': ['1183888969', '827862764'],\n",
       " 'RCV000211242': ['655384799'],\n",
       " 'RCV000211246': ['1183960805'],\n",
       " 'RCV000211264': ['1183960318'],\n",
       " 'RCV000211275': ['1183704228', '655385392'],\n",
       " 'RCV000211278': ['1445585748', '655384733'],\n",
       " 'RCV000211289': ['981755803'],\n",
       " 'RCV000211301': ['1183960800'],\n",
       " 'RCV000211318': ['1184661194', '1184661207', '655385400'],\n",
       " 'RCV000211319': ['981475450'],\n",
       " 'RCV000211323': ['981420042', '981475838', '981475880'],\n",
       " 'RCV000211334': ['655385102'],\n",
       " 'RCV000211355': ['1154221922'],\n",
       " 'RCV000211399': ['1183888969', '827862764'],\n",
       " 'RCV000660800': ['655386657'],\n",
       " 'RCV000660832': ['655384011',\n",
       "  '981344897',\n",
       "  '981345293',\n",
       "  '981345350',\n",
       "  '981345382'],\n",
       " 'RCV001787359': ['827843617'],\n",
       " 'RCV001787361': ['827843617'],\n",
       " 'RCV001787370': ['981755820'],\n",
       " 'RCV001787371': ['981755820'],\n",
       " 'RCV001787338': ['981201844', '981201854'],\n",
       " 'RCV001787337': ['827843617'],\n",
       " 'RCV001787336': ['981203618'],\n",
       " 'RCV001787333': ['655384011',\n",
       "  '981344897',\n",
       "  '981345293',\n",
       "  '981345350',\n",
       "  '981345382'],\n",
       " 'RCV001787329': ['1446905703'],\n",
       " 'RCV001787328': ['1184514050'],\n",
       " 'RCV001787326': ['1183630664'],\n",
       " 'RCV001787325': ['655384011',\n",
       "  '981344897',\n",
       "  '981345293',\n",
       "  '981345350',\n",
       "  '981345382'],\n",
       " 'RCV001787324': ['655384011',\n",
       "  '981344897',\n",
       "  '981345293',\n",
       "  '981345350',\n",
       "  '981345382'],\n",
       " 'RCV001787323': ['1446905691', '981237907'],\n",
       " 'RCV001787320': ['1183960785'],\n",
       " 'RCV001787360': ['827843617'],\n",
       " 'RCV001787805': ['981475450'],\n",
       " 'RCV001787814': ['981202806'],\n",
       " 'RCV001787817': ['1154221922'],\n",
       " 'RCV001787818': ['1183704228', '655385392'],\n",
       " 'RCV001787819': ['655384011',\n",
       "  '981344897',\n",
       "  '981345293',\n",
       "  '981345350',\n",
       "  '981345382'],\n",
       " 'RCV001787820': ['655384011',\n",
       "  '981344897',\n",
       "  '981345293',\n",
       "  '981345350',\n",
       "  '981345382'],\n",
       " 'RCV001787863': ['981203618'],\n",
       " 'RCV001787864': ['981203618'],\n",
       " 'RCV001787865': ['981203618'],\n",
       " 'RCV001787866': ['1183630664'],\n",
       " 'RCV001787867': ['1183630664'],\n",
       " 'RCV001787868': ['1183630664'],\n",
       " 'RCV001788069': ['1184514050'],\n",
       " 'RCV001788072': ['1183888969', '827862764'],\n",
       " 'RCV001847567': ['981204929', '981220481'],\n",
       " 'RCV003227596': ['1183703748'],\n",
       " 'RCV003227613': ['655384011',\n",
       "  '981344897',\n",
       "  '981345293',\n",
       "  '981345350',\n",
       "  '981345382'],\n",
       " 'RCV003227614': ['655384011',\n",
       "  '981344897',\n",
       "  '981345293',\n",
       "  '981345350',\n",
       "  '981345382'],\n",
       " 'RCV003227615': ['655384011',\n",
       "  '981344897',\n",
       "  '981345293',\n",
       "  '981345350',\n",
       "  '981345382'],\n",
       " 'RCV003227616': ['655384011',\n",
       "  '981344897',\n",
       "  '981345293',\n",
       "  '981345350',\n",
       "  '981345382'],\n",
       " 'RCV003227617': ['655384011',\n",
       "  '981344897',\n",
       "  '981345293',\n",
       "  '981345350',\n",
       "  '981345382'],\n",
       " 'RCV003227618': ['655384011',\n",
       "  '981344897',\n",
       "  '981345293',\n",
       "  '981345350',\n",
       "  '981345382'],\n",
       " 'RCV003227619': ['655384011',\n",
       "  '981344897',\n",
       "  '981345293',\n",
       "  '981345350',\n",
       "  '981345382'],\n",
       " 'RCV003227620': ['655384011',\n",
       "  '981344897',\n",
       "  '981345293',\n",
       "  '981345350',\n",
       "  '981345382'],\n",
       " 'RCV003227621': ['655384011',\n",
       "  '981344897',\n",
       "  '981345293',\n",
       "  '981345350',\n",
       "  '981345382']}"
      ]
     },
     "execution_count": 165,
     "metadata": {},
     "output_type": "execute_result"
    }
   ],
   "source": [
    "rcv_to_caid"
   ]
  },
  {
   "cell_type": "code",
   "execution_count": 38,
   "id": "74588717-f94f-4ddc-8a2c-a6f0784b435b",
   "metadata": {},
   "outputs": [],
   "source": [
    "pgkb_ids_in_clinvar = [record.measure.vcf_full_coords for record in pgkb_subs_in_clinvar\n",
    "                       if record.measure is not None and record.measure.has_complete_coordinates]"
   ]
  },
  {
   "cell_type": "code",
   "execution_count": 39,
   "id": "da34331a-8dc1-476f-bb8e-b71d40a368b9",
   "metadata": {},
   "outputs": [
    {
     "data": {
      "text/plain": [
       "445"
      ]
     },
     "execution_count": 39,
     "metadata": {},
     "output_type": "execute_result"
    }
   ],
   "source": [
    "len(pgkb_ids_in_clinvar)"
   ]
  },
  {
   "cell_type": "code",
   "execution_count": 40,
   "id": "d15a1c09-5b85-4f23-b729-aa4f73b2a398",
   "metadata": {},
   "outputs": [],
   "source": [
    "uniq_pgkb_ids_in_clinvar = set(pgkb_ids_in_clinvar)"
   ]
  },
  {
   "cell_type": "code",
   "execution_count": 42,
   "id": "9d08ebb1-31d2-4a15-99a6-219a0552223e",
   "metadata": {},
   "outputs": [
    {
     "data": {
      "text/plain": [
       "136"
      ]
     },
     "execution_count": 42,
     "metadata": {},
     "output_type": "execute_result"
    }
   ],
   "source": [
    "len(uniq_pgkb_ids_in_clinvar)"
   ]
  },
  {
   "cell_type": "markdown",
   "id": "b55e263b-db13-42f1-b7b6-f8ef6d825528",
   "metadata": {},
   "source": [
    "* 445 PGKB-submitted records in ClinVar\n",
    "* _All_ of them are associated with single variants!\n",
    "  * Some are marked as \"part of a haplotype\" - e.g. [here](https://www.ncbi.nlm.nih.gov/clinvar/variation/17848/)\n",
    "* Cannot find any examples of RCVs in ClinVar supported by PGKB star allele clinical annotations - hard to tell for certain but I think this means star allele clinical annotations are not submitted to ClinVar, even levels 1/2\n",
    "    * [example 1](https://www.pharmgkb.org/clinicalAnnotation/1451241420) - [clinvar search](https://www.ncbi.nlm.nih.gov/clinvar/?term=NAT2%5Bgene%5D+AND+PharmGKB%5Bsubmitter%5D)\n",
    "    * [example 2](https://www.pharmgkb.org/clinicalAnnotation/1183621000) - [clinvar search](https://www.ncbi.nlm.nih.gov/clinvar/?term=G6PD%5Bgene%5D+AND+PharmGKB%5Bsubmitter%5D)\n",
    "* Explicit cross-reference to PGKB from ClinVar sometimes exist but not always\n",
    "\n",
    "Also, only `445/5148 = 8.6%` of ClinVar's drug response records come from PGKB - but this corresponds to about 50% of the target genes."
   ]
  },
  {
   "cell_type": "markdown",
   "id": "80139860-23ae-459c-aaeb-055743cdbf06",
   "metadata": {},
   "source": [
    "### Compare variants"
   ]
  },
  {
   "cell_type": "code",
   "execution_count": 103,
   "id": "b7017df7-128d-4a99-bfd1-1eb022d1ce89",
   "metadata": {},
   "outputs": [],
   "source": [
    "records_without_measure = [record for record in drug_response_dataset if record.measure is None]"
   ]
  },
  {
   "cell_type": "code",
   "execution_count": 104,
   "id": "55b4db27-379e-40c7-aaa3-69c4146eef73",
   "metadata": {},
   "outputs": [
    {
     "data": {
      "text/plain": [
       "2469"
      ]
     },
     "execution_count": 104,
     "metadata": {},
     "output_type": "execute_result"
    }
   ],
   "source": [
    "len(records_without_measure)"
   ]
  },
  {
   "cell_type": "code",
   "execution_count": 111,
   "id": "4cae226c-701b-4bba-b567-6c34baaad38b",
   "metadata": {},
   "outputs": [
    {
     "data": {
      "text/plain": [
       "0.4796037296037296"
      ]
     },
     "execution_count": 111,
     "metadata": {},
     "output_type": "execute_result"
    }
   ],
   "source": [
    "2469/5148"
   ]
  },
  {
   "cell_type": "markdown",
   "id": "ff348894-7ce2-47cf-9ec5-ecb762f4d7a3",
   "metadata": {},
   "source": [
    "Drug response records in ClinVar are enriched in non-single variant measures, this number is <1% for ClinVar as a whole. Will look at variants where we do parse them, keeping in mind this will only be about half the data."
   ]
  },
  {
   "cell_type": "markdown",
   "id": "5b87db20-21d3-4e7c-b3f6-664311e5e8bb",
   "metadata": {},
   "source": [
    "#### Coordinate ids (chr_pos_ref_alt)"
   ]
  },
  {
   "cell_type": "code",
   "execution_count": 43,
   "id": "a1a8e6b8-f724-4a09-8541-08d4eb5e6348",
   "metadata": {},
   "outputs": [],
   "source": [
    "clinvar_variant_ids = {k for k in clinvar_variant_to_gene_mappings if (not k.startswith('RCV') and not k.startswith('NC'))}"
   ]
  },
  {
   "cell_type": "code",
   "execution_count": 44,
   "id": "8daed132-6258-49b1-b7cf-2108e4e6d8bf",
   "metadata": {},
   "outputs": [
    {
     "data": {
      "text/plain": [
       "2247"
      ]
     },
     "execution_count": 44,
     "metadata": {},
     "output_type": "execute_result"
    }
   ],
   "source": [
    "len(clinvar_variant_ids)"
   ]
  },
  {
   "cell_type": "code",
   "execution_count": 45,
   "id": "bbbd05f5-bbe0-4cae-83fd-713a429ffb2f",
   "metadata": {},
   "outputs": [],
   "source": [
    "pgkb_variant_ids = [vid.split(' ') for gid in pgkb_consequences_table.genotype_id.dropna() for vid in genotype_id_to_vep_ids(gid)]\n",
    "pgkb_variant_ids = {':'.join((vid[0], vid[1], vid[3], vid[4])) for vid in pgkb_variant_ids}"
   ]
  },
  {
   "cell_type": "code",
   "execution_count": 46,
   "id": "4374b8d8-de21-4063-b039-f3b531b5aa8b",
   "metadata": {},
   "outputs": [
    {
     "data": {
      "text/plain": [
       "2864"
      ]
     },
     "execution_count": 46,
     "metadata": {},
     "output_type": "execute_result"
    }
   ],
   "source": [
    "len(pgkb_variant_ids)"
   ]
  },
  {
   "cell_type": "code",
   "execution_count": 47,
   "id": "c91f267a-ef4a-445c-9e46-821ed78c8616",
   "metadata": {},
   "outputs": [],
   "source": [
    "variant_ids_in_clinvar_not_pgkb = clinvar_variant_ids - pgkb_variant_ids\n",
    "variant_ids_in_pgkb_not_clinvar = pgkb_variant_ids - clinvar_variant_ids"
   ]
  },
  {
   "cell_type": "code",
   "execution_count": 48,
   "id": "21abec02-858f-478d-a1a7-0701a6004fe5",
   "metadata": {},
   "outputs": [
    {
     "data": {
      "text/plain": [
       "2055"
      ]
     },
     "execution_count": 48,
     "metadata": {},
     "output_type": "execute_result"
    }
   ],
   "source": [
    "len(variant_ids_in_clinvar_not_pgkb)"
   ]
  },
  {
   "cell_type": "code",
   "execution_count": 49,
   "id": "ab77c6d6-6a58-48a0-b99e-1a5919b5cf8a",
   "metadata": {},
   "outputs": [
    {
     "data": {
      "text/plain": [
       "2672"
      ]
     },
     "execution_count": 49,
     "metadata": {},
     "output_type": "execute_result"
    }
   ],
   "source": [
    "len(variant_ids_in_pgkb_not_clinvar)"
   ]
  },
  {
   "cell_type": "code",
   "execution_count": 146,
   "id": "79da64c9-4d02-451b-b776-46469033544f",
   "metadata": {},
   "outputs": [
    {
     "data": {
      "text/plain": [
       "0.9145527369826435"
      ]
     },
     "execution_count": 146,
     "metadata": {},
     "output_type": "execute_result"
    }
   ],
   "source": [
    "2055/2247"
   ]
  },
  {
   "cell_type": "code",
   "execution_count": 51,
   "id": "a7de5cff-e20d-488f-b5c4-0f7fcde07e75",
   "metadata": {},
   "outputs": [
    {
     "data": {
      "text/plain": [
       "{'17:63488529:T:TATACAGTCACTTTTTTTTTTTTTTTGAGACGGAGTCTCGCTCTGTCGCCC',\n",
       " '19:38499644:TGGA:T',\n",
       " '1:97450065:TG:T',\n",
       " '7:117559590:ATCT:A',\n",
       " 'MT:1095:T:C',\n",
       " 'MT:1494:C:T',\n",
       " 'MT:1555:A:G'}"
      ]
     },
     "execution_count": 51,
     "metadata": {},
     "output_type": "execute_result"
    }
   ],
   "source": [
    "# These are variant IDs from PGKB submissions _in ClinVar_ that we are not able to find as variant IDs _in PGKB_\n",
    "variant_ids_in_clinvar_not_pgkb & {i.replace('_', ':') for i in uniq_pgkb_ids_in_clinvar}"
   ]
  },
  {
   "cell_type": "code",
   "execution_count": 52,
   "id": "487dc019-eef7-47aa-8a00-1b17f4e68fc1",
   "metadata": {},
   "outputs": [
    {
     "data": {
      "text/plain": [
       "0.9485294117647058"
      ]
     },
     "execution_count": 52,
     "metadata": {},
     "output_type": "execute_result"
    }
   ],
   "source": [
    "129 / 136"
   ]
  },
  {
   "cell_type": "markdown",
   "id": "28d37e9c-5957-464e-8782-08a864523878",
   "metadata": {},
   "source": [
    "* Variants in ClinVar: 2247\n",
    "* Variants in PGKB: 2864\n",
    "* Variants in ClinVar that are not in PGKB: 2055 (91.5%)\n",
    "\n",
    "This _might_ not be 100% accurate since the computation of the IDs is done slightly differently (rsID would be better), but checked a couple cases.\n",
    "\n",
    "Example variant: rs934034534\n",
    "* In [ClinVar](https://www.ncbi.nlm.nih.gov/clinvar/variation/828943/)\n",
    "* Not in [PGKB](https://www.pharmgkb.org/search?query=rs934034534)\n",
    "\n",
    "Example 2: rs767351070\n",
    "* In [ClinVar](https://www.ncbi.nlm.nih.gov/clinvar/variation/881532/)\n",
    "* Not in [PGKB](https://www.pharmgkb.org/search?query=rs767351070)\n",
    "\n",
    "This also ignores cases where a named allele corresponds to a single rsID, e.g. [CYP2C9*2](https://www.pharmgkb.org/haplotype/PA165816543). In other words, we would need to decompose star alleles to determine the true variant overlap."
   ]
  },
  {
   "cell_type": "markdown",
   "id": "0cab70f0-4112-4b40-95d5-2ed5c00d52f4",
   "metadata": {},
   "source": [
    "#### Other ids (repeats and structural in Clinvar, star alleles in PGKB)"
   ]
  },
  {
   "cell_type": "code",
   "execution_count": 147,
   "id": "2276e4e2-fff2-440e-97fc-5fe2467ec0f8",
   "metadata": {},
   "outputs": [],
   "source": [
    "weird_clinvar_variant_ids = {k for k in clinvar_variant_to_gene_mappings if (k.startswith('RCV') or k.startswith('NC'))}"
   ]
  },
  {
   "cell_type": "code",
   "execution_count": 148,
   "id": "185e9fb6-4d6b-4522-ab88-3ca95a2c079f",
   "metadata": {},
   "outputs": [
    {
     "data": {
      "text/plain": [
       "{'NC_000009.12:g.21879075_22096084del',\n",
       " 'NC_000009.12:g.21939409_22706614del',\n",
       " 'NC_000010.11:g.87830830_88617225del',\n",
       " 'NC_000014.9:g.67823656_68813174del',\n",
       " 'NC_000017.11:g.7603519_7768486del',\n",
       " 'RCV003317021'}"
      ]
     },
     "execution_count": 148,
     "metadata": {},
     "output_type": "execute_result"
    }
   ],
   "source": [
    "weird_clinvar_variant_ids"
   ]
  },
  {
   "cell_type": "code",
   "execution_count": 150,
   "id": "64ca4f6e-a827-48d1-8f8e-d9debea459b8",
   "metadata": {},
   "outputs": [],
   "source": [
    "pgkb_haplotype_ids = set(pgkb_consequences_table.haplotype_id.dropna())"
   ]
  },
  {
   "cell_type": "code",
   "execution_count": null,
   "id": "2b36edd5-4534-48aa-ba56-25457e8a50a3",
   "metadata": {},
   "outputs": [],
   "source": [
    "pgkb_haplotype_ids"
   ]
  },
  {
   "cell_type": "markdown",
   "id": "376cb71c-f201-42b7-9805-e55c2e423043",
   "metadata": {},
   "source": [
    "* [RCV003317021](https://www.ncbi.nlm.nih.gov/clinvar/RCV003317021/) is a repeat on UGT - could be part of a [PGKB star allele](https://www.pharmgkb.org/gene/PA420/haplotype)\n",
    "* For the others, it's really tricky to determine - again decomposing star alleles could help"
   ]
  },
  {
   "cell_type": "code",
   "execution_count": null,
   "id": "c3bcd721-126c-4c9e-80a4-ab190717f5ad",
   "metadata": {},
   "outputs": [],
   "source": []
  }
 ],
 "metadata": {
  "kernelspec": {
   "display_name": "Python 3 (ipykernel)",
   "language": "python",
   "name": "python3"
  },
  "language_info": {
   "codemirror_mode": {
    "name": "ipython",
    "version": 3
   },
   "file_extension": ".py",
   "mimetype": "text/x-python",
   "name": "python",
   "nbconvert_exporter": "python",
   "pygments_lexer": "ipython3",
   "version": "3.10.12"
  }
 },
 "nbformat": 4,
 "nbformat_minor": 5
}
