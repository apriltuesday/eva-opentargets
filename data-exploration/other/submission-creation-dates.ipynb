{
 "cells": [
  {
   "cell_type": "code",
   "execution_count": 1,
   "id": "64b089bd",
   "metadata": {
    "pycharm": {
     "name": "#%%\n"
    }
   },
   "outputs": [],
   "source": [
    "import sys\n",
    "\n",
    "sys.path.append('..')"
   ]
  },
  {
   "cell_type": "code",
   "execution_count": 2,
   "id": "b457cde9",
   "metadata": {
    "pycharm": {
     "name": "#%%\n"
    }
   },
   "outputs": [],
   "source": [
    "from filter_clinvar_xml import filter_xml, pprint, iterate_cvs_from_xml"
   ]
  },
  {
   "cell_type": "code",
   "execution_count": 3,
   "id": "9aa17f17",
   "metadata": {
    "pycharm": {
     "name": "#%%\n"
    }
   },
   "outputs": [],
   "source": [
    "import pandas as pd\n",
    "from cmat.clinvar_xml_io import *\n",
    "from cmat.clinvar_xml_io.xml_parsing import *"
   ]
  },
  {
   "cell_type": "code",
   "execution_count": 31,
   "id": "d7c3c075",
   "metadata": {
    "pycharm": {
     "name": "#%%\n"
    }
   },
   "outputs": [],
   "source": [
    "pd.set_option('display.max_rows', 500)"
   ]
  },
  {
   "cell_type": "code",
   "execution_count": 32,
   "id": "724433c3",
   "metadata": {
    "pycharm": {
     "name": "#%%\n"
    }
   },
   "outputs": [],
   "source": [
    "%matplotlib inline\n",
    "import matplotlib.pyplot as plt"
   ]
  },
  {
   "cell_type": "code",
   "execution_count": 4,
   "id": "560e4fdb",
   "metadata": {
    "pycharm": {
     "name": "#%%\n"
    }
   },
   "outputs": [],
   "source": [
    "full_path = '/home/april/projects/opentargets/clinvar.xml.gz'\n",
    "sample_path = '/home/april/projects/opentargets/clinvar-sample.xml.gz'"
   ]
  },
  {
   "cell_type": "code",
   "execution_count": 47,
   "id": "fd06bad9",
   "metadata": {
    "pycharm": {
     "name": "#%%\n"
    }
   },
   "outputs": [],
   "source": [
    "clinvar_path = full_path"
   ]
  },
  {
   "cell_type": "code",
   "execution_count": 52,
   "id": "740bfdd9",
   "metadata": {
    "pycharm": {
     "name": "#%%\n"
    }
   },
   "outputs": [],
   "source": [
    "# format='%Y-%m-%d' but only usually...\n",
    "dates = []\n",
    "for raw_cvs_xml in iterate_cvs_from_xml(clinvar_path):\n",
    "    # Get submitted dates for SCVs\n",
    "    scvs = find_elements(raw_cvs_xml, './ClinVarAssertion/ClinVarSubmissionID')\n",
    "    submitter_dates = [scv.attrib.get('submitterDate') for scv in scvs]\n",
    "    submitter_dates = [pd.to_datetime(d) for d in submitter_dates if d]\n",
    "    if not submitter_dates:\n",
    "        submitter_dates = [pd.NaT]\n",
    "    \n",
    "    # Get created date for RCV\n",
    "    rcv = find_mandatory_unique_element(raw_cvs_xml, './ReferenceClinVarAssertion')\n",
    "    record = ClinVarRecord(rcv)\n",
    "    created_date = pd.to_datetime(record.rcv.attrib['DateCreated']) if record.rcv.attrib['DateCreated'] else None\n",
    "    \n",
    "    dates.append((record.accession, created_date, min(submitter_dates), max(submitter_dates)))"
   ]
  },
  {
   "cell_type": "code",
   "execution_count": 53,
   "id": "a45638bc",
   "metadata": {
    "pycharm": {
     "name": "#%%\n"
    }
   },
   "outputs": [],
   "source": [
    "df = pd.DataFrame(dates, columns=('accession', 'created date', 'min submitted date', 'max submitted date'))\n",
    "df['min sub to created'] = df['created date'] - df['min submitted date']"
   ]
  },
  {
   "cell_type": "code",
   "execution_count": 54,
   "id": "cef090ad",
   "metadata": {
    "pycharm": {
     "name": "#%%\n"
    },
    "scrolled": true
   },
   "outputs": [
    {
     "data": {
      "text/html": [
       "<div>\n",
       "<style scoped>\n",
       "    .dataframe tbody tr th:only-of-type {\n",
       "        vertical-align: middle;\n",
       "    }\n",
       "\n",
       "    .dataframe tbody tr th {\n",
       "        vertical-align: top;\n",
       "    }\n",
       "\n",
       "    .dataframe thead th {\n",
       "        text-align: right;\n",
       "    }\n",
       "</style>\n",
       "<table border=\"1\" class=\"dataframe\">\n",
       "  <thead>\n",
       "    <tr style=\"text-align: right;\">\n",
       "      <th></th>\n",
       "      <th>accession</th>\n",
       "      <th>created date</th>\n",
       "      <th>min submitted date</th>\n",
       "      <th>max submitted date</th>\n",
       "      <th>min sub to created</th>\n",
       "    </tr>\n",
       "  </thead>\n",
       "  <tbody>\n",
       "    <tr>\n",
       "      <th>0</th>\n",
       "      <td>RCV000000009</td>\n",
       "      <td>2013-04-04</td>\n",
       "      <td>2017-12-11</td>\n",
       "      <td>2017-12-11</td>\n",
       "      <td>-1712 days</td>\n",
       "    </tr>\n",
       "    <tr>\n",
       "      <th>1</th>\n",
       "      <td>RCV000000010</td>\n",
       "      <td>2013-04-04</td>\n",
       "      <td>2015-08-10</td>\n",
       "      <td>2015-08-10</td>\n",
       "      <td>-858 days</td>\n",
       "    </tr>\n",
       "    <tr>\n",
       "      <th>2</th>\n",
       "      <td>RCV000000012</td>\n",
       "      <td>2013-04-04</td>\n",
       "      <td>2017-01-26</td>\n",
       "      <td>2020-11-14</td>\n",
       "      <td>-1393 days</td>\n",
       "    </tr>\n",
       "    <tr>\n",
       "      <th>3</th>\n",
       "      <td>RCV000000013</td>\n",
       "      <td>2013-04-04</td>\n",
       "      <td>2017-01-26</td>\n",
       "      <td>2017-01-26</td>\n",
       "      <td>-1393 days</td>\n",
       "    </tr>\n",
       "    <tr>\n",
       "      <th>4</th>\n",
       "      <td>RCV000000016</td>\n",
       "      <td>2013-04-04</td>\n",
       "      <td>2019-01-31</td>\n",
       "      <td>2019-01-31</td>\n",
       "      <td>-2128 days</td>\n",
       "    </tr>\n",
       "  </tbody>\n",
       "</table>\n",
       "</div>"
      ],
      "text/plain": [
       "      accession created date min submitted date max submitted date  \\\n",
       "0  RCV000000009   2013-04-04         2017-12-11         2017-12-11   \n",
       "1  RCV000000010   2013-04-04         2015-08-10         2015-08-10   \n",
       "2  RCV000000012   2013-04-04         2017-01-26         2020-11-14   \n",
       "3  RCV000000013   2013-04-04         2017-01-26         2017-01-26   \n",
       "4  RCV000000016   2013-04-04         2019-01-31         2019-01-31   \n",
       "\n",
       "  min sub to created  \n",
       "0         -1712 days  \n",
       "1          -858 days  \n",
       "2         -1393 days  \n",
       "3         -1393 days  \n",
       "4         -2128 days  "
      ]
     },
     "execution_count": 54,
     "metadata": {},
     "output_type": "execute_result"
    }
   ],
   "source": [
    "df.head()"
   ]
  },
  {
   "cell_type": "code",
   "execution_count": 66,
   "id": "0dc08091",
   "metadata": {
    "pycharm": {
     "name": "#%%\n"
    }
   },
   "outputs": [
    {
     "data": {
      "text/plain": [
       "(array([2.570000e+02, 4.640000e+02, 7.420000e+02, 3.060000e+02,\n",
       "        4.250000e+02, 7.700000e+02, 1.435000e+03, 7.220000e+02,\n",
       "        2.651000e+03, 1.603000e+03, 2.439000e+03, 3.765000e+03,\n",
       "        8.581000e+03, 5.939000e+03, 7.861000e+03, 1.538800e+04,\n",
       "        5.940000e+03, 2.901500e+04, 3.701100e+04, 8.410000e+03,\n",
       "        2.972100e+04, 8.663000e+03, 3.970300e+04, 1.373390e+05,\n",
       "        2.831100e+04, 1.034010e+05, 1.084600e+04, 2.860400e+04,\n",
       "        2.023010e+05, 1.424000e+04, 4.113100e+04, 3.831680e+05,\n",
       "        2.590000e+04, 4.611200e+04, 1.548448e+06, 1.737300e+05,\n",
       "        7.490500e+04, 6.356000e+03, 1.130400e+04, 1.665000e+03,\n",
       "        2.845000e+03, 8.990000e+02, 1.396000e+03, 4.400000e+02,\n",
       "        6.160000e+02, 5.770000e+02, 5.920000e+02, 1.570000e+02,\n",
       "        2.330000e+02, 1.112000e+03, 1.009000e+03, 1.320000e+02,\n",
       "        2.250000e+02, 6.200000e+01, 9.000000e+01, 7.700000e+01,\n",
       "        8.500000e+01, 3.500000e+01, 2.100000e+01, 7.800000e+01,\n",
       "        2.300000e+01, 1.800000e+01, 1.300000e+01, 1.770000e+02,\n",
       "        1.400000e+01, 3.100000e+01, 2.200000e+01, 2.000000e+01,\n",
       "        2.300000e+01, 2.100000e+01, 8.000000e+00, 8.000000e+00,\n",
       "        6.000000e+00, 3.000000e+00, 3.000000e+00, 1.000000e+00,\n",
       "        4.000000e+00, 5.000000e+00, 0.000000e+00, 1.000000e+00,\n",
       "        2.000000e+00, 1.000000e+00, 1.000000e+00, 1.000000e+00,\n",
       "        0.000000e+00, 0.000000e+00, 0.000000e+00, 1.000000e+00,\n",
       "        0.000000e+00, 0.000000e+00, 0.000000e+00, 0.000000e+00,\n",
       "        1.000000e+00, 0.000000e+00, 0.000000e+00, 0.000000e+00,\n",
       "        0.000000e+00, 0.000000e+00, 1.000000e+00, 2.000000e+00]),\n",
       " array([-3760.  , -3649.87, -3539.74, -3429.61, -3319.48, -3209.35,\n",
       "        -3099.22, -2989.09, -2878.96, -2768.83, -2658.7 , -2548.57,\n",
       "        -2438.44, -2328.31, -2218.18, -2108.05, -1997.92, -1887.79,\n",
       "        -1777.66, -1667.53, -1557.4 , -1447.27, -1337.14, -1227.01,\n",
       "        -1116.88, -1006.75,  -896.62,  -786.49,  -676.36,  -566.23,\n",
       "         -456.1 ,  -345.97,  -235.84,  -125.71,   -15.58,    94.55,\n",
       "          204.68,   314.81,   424.94,   535.07,   645.2 ,   755.33,\n",
       "          865.46,   975.59,  1085.72,  1195.85,  1305.98,  1416.11,\n",
       "         1526.24,  1636.37,  1746.5 ,  1856.63,  1966.76,  2076.89,\n",
       "         2187.02,  2297.15,  2407.28,  2517.41,  2627.54,  2737.67,\n",
       "         2847.8 ,  2957.93,  3068.06,  3178.19,  3288.32,  3398.45,\n",
       "         3508.58,  3618.71,  3728.84,  3838.97,  3949.1 ,  4059.23,\n",
       "         4169.36,  4279.49,  4389.62,  4499.75,  4609.88,  4720.01,\n",
       "         4830.14,  4940.27,  5050.4 ,  5160.53,  5270.66,  5380.79,\n",
       "         5490.92,  5601.05,  5711.18,  5821.31,  5931.44,  6041.57,\n",
       "         6151.7 ,  6261.83,  6371.96,  6482.09,  6592.22,  6702.35,\n",
       "         6812.48,  6922.61,  7032.74,  7142.87,  7253.  ]),\n",
       " <BarContainer object of 100 artists>)"
      ]
     },
     "execution_count": 66,
     "metadata": {},
     "output_type": "execute_result"
    },
    {
     "data": {
      "image/png": "[encoded data removed]",
      "text/plain": [
       "<Figure size 1080x504 with 1 Axes>"
      ]
     },
     "metadata": {
      "needs_background": "light"
     },
     "output_type": "display_data"
    }
   ],
   "source": [
    "plt.figure(figsize=(15,7))\n",
    "plt.xlabel('Days from first submission date to RCV creation date')\n",
    "plt.ylabel('Number of records')\n",
    "plt.grid()\n",
    "plt.hist(df['min sub to created'].dt.days, bins=100)"
   ]
  },
  {
   "cell_type": "markdown",
   "id": "ef10aac5",
   "metadata": {
    "pycharm": {
     "name": "#%% md\n"
    }
   },
   "source": [
    "Negative values means RCV creation precedes first submission (e.g. maybe a submission was withdrawn?)"
   ]
  },
  {
   "cell_type": "code",
   "execution_count": 67,
   "id": "1a104078",
   "metadata": {
    "pycharm": {
     "name": "#%%\n"
    }
   },
   "outputs": [],
   "source": [
    "def percent_within_days(num_days):\n",
    "    return len(df[abs(df['min sub to created']) < pd.Timedelta(num_days, unit='days')]) / len(df) * 100"
   ]
  },
  {
   "cell_type": "code",
   "execution_count": 68,
   "id": "9ade2d1b",
   "metadata": {
    "pycharm": {
     "name": "#%%\n"
    }
   },
   "outputs": [
    {
     "data": {
      "text/plain": [
       "74.02446764274615"
      ]
     },
     "execution_count": 68,
     "metadata": {},
     "output_type": "execute_result"
    }
   ],
   "source": [
    "percent_within_days(365)"
   ]
  },
  {
   "cell_type": "code",
   "execution_count": 70,
   "id": "316479e3",
   "metadata": {
    "pycharm": {
     "name": "#%%\n"
    }
   },
   "outputs": [
    {
     "data": {
      "text/plain": [
       "54.9929428427425"
      ]
     },
     "execution_count": 70,
     "metadata": {},
     "output_type": "execute_result"
    }
   ],
   "source": [
    "percent_within_days(120)"
   ]
  },
  {
   "cell_type": "code",
   "execution_count": null,
   "id": "2e57e134",
   "metadata": {
    "pycharm": {
     "name": "#%%\n"
    }
   },
   "outputs": [],
   "source": []
  }
 ],
 "metadata": {
  "kernelspec": {
   "display_name": "Python 3 (ipykernel)",
   "language": "python",
   "name": "python3"
  },
  "language_info": {
   "codemirror_mode": {
    "name": "ipython",
    "version": 3
   },
   "file_extension": ".py",
   "mimetype": "text/x-python",
   "name": "python",
   "nbconvert_exporter": "python",
   "pygments_lexer": "ipython3",
   "version": "3.10.12"
  }
 },
 "nbformat": 4,
 "nbformat_minor": 5
}
