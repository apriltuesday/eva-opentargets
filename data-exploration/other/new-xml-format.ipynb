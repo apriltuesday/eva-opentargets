{
 "cells": [
  {
   "cell_type": "code",
   "execution_count": 1,
   "id": "8fe64d98",
   "metadata": {
    "pycharm": {
     "name": "#%%\n"
    }
   },
   "outputs": [],
   "source": [
    "import sys\n",
    "\n",
    "sys.path.append('..')"
   ]
  },
  {
   "cell_type": "code",
   "execution_count": 2,
   "id": "81fcc7ff",
   "metadata": {
    "pycharm": {
     "name": "#%%\n"
    }
   },
   "outputs": [],
   "source": [
    "from filter_clinvar_xml import pprint, iterate_cvs_from_xml, filter_xml"
   ]
  },
  {
   "cell_type": "code",
   "execution_count": 3,
   "id": "b436018c",
   "metadata": {
    "pycharm": {
     "name": "#%%\n"
    }
   },
   "outputs": [],
   "source": [
    "import gzip\n",
    "import xml.etree.ElementTree as ElementTree\n",
    "import pandas as pd\n",
    "import os\n",
    "from random import random\n",
    "from collections import Counter"
   ]
  },
  {
   "cell_type": "code",
   "execution_count": 4,
   "id": "82737d6f",
   "metadata": {
    "pycharm": {
     "name": "#%%\n"
    }
   },
   "outputs": [],
   "source": [
    "from cmat.clinvar_xml_io import ClinVarDataset\n",
    "from cmat.clinvar_xml_io.xml_parsing import *"
   ]
  },
  {
   "cell_type": "code",
   "execution_count": 5,
   "id": "262a7b6d",
   "metadata": {
    "pycharm": {
     "name": "#%%\n"
    }
   },
   "outputs": [],
   "source": [
    "%matplotlib inline\n",
    "import matplotlib.pyplot as plt"
   ]
  },
  {
   "cell_type": "code",
   "execution_count": 6,
   "id": "620a96e6",
   "metadata": {
    "pycharm": {
     "name": "#%%\n"
    }
   },
   "outputs": [],
   "source": [
    "pd.set_option('display.max_rows', 500)"
   ]
  },
  {
   "cell_type": "code",
   "execution_count": 7,
   "id": "dc11d7c5",
   "metadata": {
    "pycharm": {
     "name": "#%%\n"
    }
   },
   "outputs": [],
   "source": [
    "work_dir = '/home/april/projects/opentargets/new_clinvar_xml'\n",
    "\n",
    "# Downloaded latest which at the time was the Feb 2024 release:\n",
    "# https://ftp.ncbi.nlm.nih.gov/pub/clinvar/xml/RCV_release/ClinVarRCVRelease_2024-02.xml.gz\n",
    "clinvar_xml = os.path.join(work_dir, 'ClinVarRCVRelease_00-latest.xml.gz')\n",
    "sample_xml = os.path.join(work_dir, 'sample-2.0.xml.gz')"
   ]
  },
  {
   "cell_type": "markdown",
   "id": "40e555e1",
   "metadata": {
    "pycharm": {
     "name": "#%% md\n"
    }
   },
   "source": [
    "Counts to look at:\n",
    "* How many have what subset of `Classification` options (germline, somatic, oncogenicity)\n",
    "    * are there any unexpected combinations, e.g. germline + onco?\n",
    "* Occurrence of all possible germline/somatic/oncogenicity terms (some overlap with [this](https://github.com/EBIvariation/CMAT/tree/master/data-exploration/clinvar-variant-types))\n",
    "    * see [here](https://github.com/EBIvariation/CMAT/issues/396#issuecomment-1898804129)\n",
    "* For cases with multiple classifications, what do the dates and review statuses look like? Do they tend to be the same?"
   ]
  },
  {
   "cell_type": "code",
   "execution_count": 9,
   "id": "c3d0683e",
   "metadata": {
    "pycharm": {
     "name": "#%%\n"
    }
   },
   "outputs": [
    {
     "name": "stderr",
     "output_type": "stream",
     "text": [
      "INFO:filter_clinvar_xml:Records written: 3000\n"
     ]
    }
   ],
   "source": [
    "# Take a random sample of records to test on - rerun only if needed\n",
    "def f(x):\n",
    "    return random() < 0.001\n",
    "\n",
    "# filter_xml(clinvar_xml, sample_xml, filter_fct=f, max_num=3000)"
   ]
  },
  {
   "cell_type": "code",
   "execution_count": 46,
   "id": "102f9b5e",
   "metadata": {
    "pycharm": {
     "name": "#%%\n"
    }
   },
   "outputs": [],
   "source": [
    "# dataset = ClinVarDataset(sample_xml)\n",
    "dataset = ClinVarDataset(clinvar_xml)"
   ]
  },
  {
   "cell_type": "code",
   "execution_count": 47,
   "id": "7c62044c",
   "metadata": {
    "pycharm": {
     "name": "#%%\n"
    }
   },
   "outputs": [],
   "source": [
    "def get_classifications(record):\n",
    "    results = []\n",
    "    class_elts = find_elements(r.rcv, './Classifications/*')\n",
    "    for elt in class_elts:\n",
    "        results.append({\n",
    "            'type': elt.tag,\n",
    "            'review_status': find_mandatory_unique_element(elt, './ReviewStatus').text,\n",
    "            'description': find_mandatory_unique_element(elt, './Description').text\n",
    "        })\n",
    "    return results"
   ]
  },
  {
   "cell_type": "code",
   "execution_count": 48,
   "id": "0c434685",
   "metadata": {
    "scrolled": false,
    "pycharm": {
     "name": "#%%\n"
    }
   },
   "outputs": [],
   "source": [
    "classifications = [get_classifications(r) for r in dataset]"
   ]
  },
  {
   "cell_type": "code",
   "execution_count": 49,
   "id": "6c2dd441",
   "metadata": {
    "pycharm": {
     "name": "#%%\n"
    }
   },
   "outputs": [
    {
     "data": {
      "text/plain": [
       "3223688"
      ]
     },
     "execution_count": 49,
     "metadata": {},
     "output_type": "execute_result"
    }
   ],
   "source": [
    "len(classifications)"
   ]
  },
  {
   "cell_type": "code",
   "execution_count": 53,
   "id": "56fadd92",
   "metadata": {
    "pycharm": {
     "name": "#%%\n"
    }
   },
   "outputs": [],
   "source": [
    "class_type_counts = Counter()\n",
    "multiple_class_count = 0\n",
    "for classif in classifications:\n",
    "    if len(classif) > 1:\n",
    "        multiple_class_count += 1\n",
    "    for c in classif:\n",
    "        class_type_counts[c['type']] += 1"
   ]
  },
  {
   "cell_type": "code",
   "execution_count": 54,
   "id": "49b3bb4d",
   "metadata": {
    "pycharm": {
     "name": "#%%\n"
    }
   },
   "outputs": [
    {
     "data": {
      "text/plain": [
       "Counter({'GermlineClassification': 3223688})"
      ]
     },
     "execution_count": 54,
     "metadata": {},
     "output_type": "execute_result"
    }
   ],
   "source": [
    "class_type_counts"
   ]
  },
  {
   "cell_type": "code",
   "execution_count": 55,
   "id": "4f253a69",
   "metadata": {
    "pycharm": {
     "name": "#%%\n"
    }
   },
   "outputs": [
    {
     "data": {
      "text/plain": [
       "0"
      ]
     },
     "execution_count": 55,
     "metadata": {},
     "output_type": "execute_result"
    }
   ],
   "source": [
    "multiple_class_count"
   ]
  },
  {
   "cell_type": "markdown",
   "id": "1f85fc4e",
   "metadata": {
    "pycharm": {
     "name": "#%% md\n"
    }
   },
   "source": [
    "Outcome: in this first release at least, the data is the same even though the structure has changed.\n",
    "\n",
    "I searched through the VCV XML, the string `SomaticClinicalImpact` is at least present there but it always seems to be set to 0 submission and no meaningful value.\n",
    "\n",
    "I've emailed ClinVar about this to ask if it's intended and these values will only be used in new submissions."
   ]
  },
  {
   "cell_type": "code",
   "execution_count": 16,
   "id": "e2178b93",
   "metadata": {
    "pycharm": {
     "name": "#%%\n"
    }
   },
   "outputs": [],
   "source": []
  },
  {
   "cell_type": "code",
   "execution_count": null,
   "id": "e68f72f7",
   "metadata": {
    "scrolled": true,
    "pycharm": {
     "name": "#%%\n"
    }
   },
   "outputs": [],
   "source": [
    "vcv_classifications = []\n",
    "vcv_count = 0\n",
    "\n",
    "with gzip.open(os.path.join(work_dir, 'ClinVarVCVRelease_00-latest.xml.gz'), 'rt') as fh:\n",
    "    for event, elem in ElementTree.iterparse(fh):\n",
    "        if elem.tag == 'VariationArchive':\n",
    "            pprint(elem)\n",
    "            vcv_count += 1\n",
    "        if vcv_count > 10:\n",
    "            break\n",
    "#         if elem.tag in {'SomaticClinicalImpact', 'OncogenicityClassification', 'GermlineClassification'}:\n",
    "#             try:\n",
    "#                 vcv_classifications.append({\n",
    "#                     'type': elem.tag,\n",
    "#                     'review_status': find_mandatory_unique_element(elem, './ReviewStatus').text,\n",
    "#                     'description': find_mandatory_unique_element(elem, './Description').text\n",
    "#                 })\n",
    "#             except:\n",
    "#                 continue\n",
    "#             finally:\n",
    "#                 elem.clear()\n",
    "#         vcv_count += 1\n",
    "#         if len(vcv_classifications) > 100 or vcv_count > 500000:\n",
    "#             break"
   ]
  },
  {
   "cell_type": "code",
   "execution_count": 21,
   "id": "90bbe4ad",
   "metadata": {
    "pycharm": {
     "name": "#%%\n"
    }
   },
   "outputs": [
    {
     "data": {
      "text/plain": [
       "[{'type': 'GermlineClassification',\n",
       "  'review_status': 'criteria provided, single submitter',\n",
       "  'description': 'Pathogenic'},\n",
       " {'type': 'GermlineClassification',\n",
       "  'review_status': 'criteria provided, single submitter',\n",
       "  'description': 'Pathogenic'},\n",
       " {'type': 'GermlineClassification',\n",
       "  'review_status': 'no assertion criteria provided',\n",
       "  'description': 'Pathogenic'},\n",
       " {'type': 'GermlineClassification',\n",
       "  'review_status': 'no assertion criteria provided',\n",
       "  'description': 'Pathogenic'},\n",
       " {'type': 'GermlineClassification',\n",
       "  'review_status': 'no assertion criteria provided',\n",
       "  'description': 'Pathogenic'},\n",
       " {'type': 'GermlineClassification',\n",
       "  'review_status': 'no assertion criteria provided',\n",
       "  'description': 'Pathogenic'},\n",
       " {'type': 'GermlineClassification',\n",
       "  'review_status': 'no assertion criteria provided',\n",
       "  'description': 'Pathogenic'},\n",
       " {'type': 'GermlineClassification',\n",
       "  'review_status': 'no assertion criteria provided',\n",
       "  'description': 'Pathogenic'},\n",
       " {'type': 'GermlineClassification',\n",
       "  'review_status': 'no assertion criteria provided',\n",
       "  'description': 'Pathogenic'},\n",
       " {'type': 'GermlineClassification',\n",
       "  'review_status': 'no assertion criteria provided',\n",
       "  'description': 'Pathogenic'},\n",
       " {'type': 'GermlineClassification',\n",
       "  'review_status': 'no assertion criteria provided',\n",
       "  'description': 'Pathogenic'},\n",
       " {'type': 'GermlineClassification',\n",
       "  'review_status': 'no assertion criteria provided',\n",
       "  'description': 'Pathogenic'},\n",
       " {'type': 'GermlineClassification',\n",
       "  'review_status': 'no assertion criteria provided',\n",
       "  'description': 'Pathogenic'},\n",
       " {'type': 'GermlineClassification',\n",
       "  'review_status': 'no assertion criteria provided',\n",
       "  'description': 'Pathogenic'},\n",
       " {'type': 'GermlineClassification',\n",
       "  'review_status': 'no assertion criteria provided',\n",
       "  'description': 'Pathogenic'},\n",
       " {'type': 'GermlineClassification',\n",
       "  'review_status': 'no assertion criteria provided',\n",
       "  'description': 'Pathogenic'},\n",
       " {'type': 'GermlineClassification',\n",
       "  'review_status': 'no assertion criteria provided',\n",
       "  'description': 'Pathogenic'},\n",
       " {'type': 'GermlineClassification',\n",
       "  'review_status': 'no assertion criteria provided',\n",
       "  'description': 'Pathogenic'},\n",
       " {'type': 'GermlineClassification',\n",
       "  'review_status': 'no assertion criteria provided',\n",
       "  'description': 'Pathogenic'},\n",
       " {'type': 'GermlineClassification',\n",
       "  'review_status': 'no assertion criteria provided',\n",
       "  'description': 'Pathogenic'},\n",
       " {'type': 'GermlineClassification',\n",
       "  'review_status': 'no assertion criteria provided',\n",
       "  'description': 'Pathogenic'},\n",
       " {'type': 'GermlineClassification',\n",
       "  'review_status': 'no assertion criteria provided',\n",
       "  'description': 'Pathogenic'},\n",
       " {'type': 'GermlineClassification',\n",
       "  'review_status': 'no assertion criteria provided',\n",
       "  'description': 'Pathogenic'},\n",
       " {'type': 'GermlineClassification',\n",
       "  'review_status': 'no assertion criteria provided',\n",
       "  'description': 'Pathogenic'},\n",
       " {'type': 'GermlineClassification',\n",
       "  'review_status': 'no assertion criteria provided',\n",
       "  'description': 'Pathogenic'},\n",
       " {'type': 'GermlineClassification',\n",
       "  'review_status': 'no assertion criteria provided',\n",
       "  'description': 'Pathogenic'},\n",
       " {'type': 'GermlineClassification',\n",
       "  'review_status': 'no assertion criteria provided',\n",
       "  'description': 'Pathogenic'},\n",
       " {'type': 'GermlineClassification',\n",
       "  'review_status': 'no assertion criteria provided',\n",
       "  'description': 'Pathogenic'},\n",
       " {'type': 'GermlineClassification',\n",
       "  'review_status': 'no assertion criteria provided',\n",
       "  'description': 'Pathogenic'},\n",
       " {'type': 'GermlineClassification',\n",
       "  'review_status': 'no assertion criteria provided',\n",
       "  'description': 'Pathogenic'},\n",
       " {'type': 'GermlineClassification',\n",
       "  'review_status': 'no assertion criteria provided',\n",
       "  'description': 'Pathogenic'},\n",
       " {'type': 'GermlineClassification',\n",
       "  'review_status': 'no assertion criteria provided',\n",
       "  'description': 'Pathogenic'},\n",
       " {'type': 'GermlineClassification',\n",
       "  'review_status': 'no assertion criteria provided',\n",
       "  'description': 'Pathogenic'},\n",
       " {'type': 'GermlineClassification',\n",
       "  'review_status': 'no assertion criteria provided',\n",
       "  'description': 'Pathogenic'},\n",
       " {'type': 'GermlineClassification',\n",
       "  'review_status': 'no assertion criteria provided',\n",
       "  'description': 'Pathogenic'},\n",
       " {'type': 'GermlineClassification',\n",
       "  'review_status': 'criteria provided, single submitter',\n",
       "  'description': 'Likely pathogenic'},\n",
       " {'type': 'GermlineClassification',\n",
       "  'review_status': 'criteria provided, single submitter',\n",
       "  'description': 'Likely pathogenic'},\n",
       " {'type': 'GermlineClassification',\n",
       "  'review_status': 'no assertion criteria provided',\n",
       "  'description': 'Pathogenic'},\n",
       " {'type': 'GermlineClassification',\n",
       "  'review_status': 'no assertion criteria provided',\n",
       "  'description': 'Pathogenic'},\n",
       " {'type': 'GermlineClassification',\n",
       "  'review_status': 'no assertion criteria provided',\n",
       "  'description': 'Pathogenic'},\n",
       " {'type': 'GermlineClassification',\n",
       "  'review_status': 'no assertion criteria provided',\n",
       "  'description': 'Pathogenic'},\n",
       " {'type': 'GermlineClassification',\n",
       "  'review_status': 'no assertion criteria provided',\n",
       "  'description': 'Pathogenic'},\n",
       " {'type': 'GermlineClassification',\n",
       "  'review_status': 'no assertion criteria provided',\n",
       "  'description': 'Pathogenic'},\n",
       " {'type': 'GermlineClassification',\n",
       "  'review_status': 'no assertion criteria provided',\n",
       "  'description': 'Pathogenic'},\n",
       " {'type': 'GermlineClassification',\n",
       "  'review_status': 'no assertion criteria provided',\n",
       "  'description': 'Pathogenic'},\n",
       " {'type': 'GermlineClassification',\n",
       "  'review_status': 'no assertion criteria provided',\n",
       "  'description': 'Pathogenic'},\n",
       " {'type': 'GermlineClassification',\n",
       "  'review_status': 'no assertion criteria provided',\n",
       "  'description': 'Pathogenic'},\n",
       " {'type': 'GermlineClassification',\n",
       "  'review_status': 'no assertion criteria provided',\n",
       "  'description': 'Pathogenic'},\n",
       " {'type': 'GermlineClassification',\n",
       "  'review_status': 'no assertion criteria provided',\n",
       "  'description': 'Pathogenic'},\n",
       " {'type': 'GermlineClassification',\n",
       "  'review_status': 'no assertion criteria provided',\n",
       "  'description': 'Pathogenic/Likely pathogenic'},\n",
       " {'type': 'GermlineClassification',\n",
       "  'review_status': 'no assertion criteria provided',\n",
       "  'description': 'Pathogenic/Likely pathogenic'},\n",
       " {'type': 'GermlineClassification',\n",
       "  'review_status': 'no assertion criteria provided',\n",
       "  'description': 'Pathogenic/Likely pathogenic'},\n",
       " {'type': 'GermlineClassification',\n",
       "  'review_status': 'no assertion criteria provided',\n",
       "  'description': 'Pathogenic/Likely pathogenic'},\n",
       " {'type': 'GermlineClassification',\n",
       "  'review_status': 'no assertion criteria provided',\n",
       "  'description': 'Pathogenic'},\n",
       " {'type': 'GermlineClassification',\n",
       "  'review_status': 'no assertion criteria provided',\n",
       "  'description': 'Pathogenic'},\n",
       " {'type': 'GermlineClassification',\n",
       "  'review_status': 'no assertion criteria provided',\n",
       "  'description': 'Pathogenic'},\n",
       " {'type': 'GermlineClassification',\n",
       "  'review_status': 'no assertion criteria provided',\n",
       "  'description': 'Pathogenic'},\n",
       " {'type': 'GermlineClassification',\n",
       "  'review_status': 'no assertion criteria provided',\n",
       "  'description': 'Pathogenic'},\n",
       " {'type': 'GermlineClassification',\n",
       "  'review_status': 'no assertion criteria provided',\n",
       "  'description': 'Pathogenic'},\n",
       " {'type': 'GermlineClassification',\n",
       "  'review_status': 'no assertion criteria provided',\n",
       "  'description': 'Pathogenic/Likely pathogenic'},\n",
       " {'type': 'GermlineClassification',\n",
       "  'review_status': 'no assertion criteria provided',\n",
       "  'description': 'Pathogenic/Likely pathogenic'},\n",
       " {'type': 'GermlineClassification',\n",
       "  'review_status': 'no assertion criteria provided',\n",
       "  'description': 'Pathogenic/Likely pathogenic'},\n",
       " {'type': 'GermlineClassification',\n",
       "  'review_status': 'no assertion criteria provided',\n",
       "  'description': 'Pathogenic/Likely pathogenic'},\n",
       " {'type': 'GermlineClassification',\n",
       "  'review_status': 'no assertion criteria provided',\n",
       "  'description': 'Pathogenic'},\n",
       " {'type': 'GermlineClassification',\n",
       "  'review_status': 'no assertion criteria provided',\n",
       "  'description': 'Pathogenic'},\n",
       " {'type': 'GermlineClassification',\n",
       "  'review_status': 'no assertion criteria provided',\n",
       "  'description': 'Pathogenic'},\n",
       " {'type': 'GermlineClassification',\n",
       "  'review_status': 'no assertion criteria provided',\n",
       "  'description': 'Pathogenic'},\n",
       " {'type': 'GermlineClassification',\n",
       "  'review_status': 'no assertion criteria provided',\n",
       "  'description': 'Pathogenic/Likely pathogenic'},\n",
       " {'type': 'GermlineClassification',\n",
       "  'review_status': 'no assertion criteria provided',\n",
       "  'description': 'Pathogenic/Likely pathogenic'},\n",
       " {'type': 'GermlineClassification',\n",
       "  'review_status': 'no assertion criteria provided',\n",
       "  'description': 'Pathogenic'},\n",
       " {'type': 'GermlineClassification',\n",
       "  'review_status': 'no assertion criteria provided',\n",
       "  'description': 'Pathogenic'},\n",
       " {'type': 'GermlineClassification',\n",
       "  'review_status': 'no assertion criteria provided',\n",
       "  'description': 'Pathogenic'},\n",
       " {'type': 'GermlineClassification',\n",
       "  'review_status': 'no assertion criteria provided',\n",
       "  'description': 'Pathogenic'},\n",
       " {'type': 'GermlineClassification',\n",
       "  'review_status': 'no assertion criteria provided',\n",
       "  'description': 'Pathogenic'},\n",
       " {'type': 'GermlineClassification',\n",
       "  'review_status': 'no assertion criteria provided',\n",
       "  'description': 'Pathogenic'},\n",
       " {'type': 'GermlineClassification',\n",
       "  'review_status': 'no assertion criteria provided',\n",
       "  'description': 'Pathogenic'},\n",
       " {'type': 'GermlineClassification',\n",
       "  'review_status': 'no assertion criteria provided',\n",
       "  'description': 'Pathogenic'},\n",
       " {'type': 'GermlineClassification',\n",
       "  'review_status': 'no assertion criteria provided',\n",
       "  'description': 'Pathogenic'},\n",
       " {'type': 'GermlineClassification',\n",
       "  'review_status': 'no assertion criteria provided',\n",
       "  'description': 'Pathogenic'},\n",
       " {'type': 'GermlineClassification',\n",
       "  'review_status': 'no assertion criteria provided',\n",
       "  'description': 'Pathogenic'},\n",
       " {'type': 'GermlineClassification',\n",
       "  'review_status': 'no assertion criteria provided',\n",
       "  'description': 'Pathogenic'},\n",
       " {'type': 'GermlineClassification',\n",
       "  'review_status': 'no assertion criteria provided',\n",
       "  'description': 'Pathogenic'},\n",
       " {'type': 'GermlineClassification',\n",
       "  'review_status': 'no assertion criteria provided',\n",
       "  'description': 'Pathogenic'},\n",
       " {'type': 'GermlineClassification',\n",
       "  'review_status': 'no assertion criteria provided',\n",
       "  'description': 'Pathogenic'},\n",
       " {'type': 'GermlineClassification',\n",
       "  'review_status': 'no assertion criteria provided',\n",
       "  'description': 'Pathogenic'},\n",
       " {'type': 'GermlineClassification',\n",
       "  'review_status': 'criteria provided, single submitter',\n",
       "  'description': 'Pathogenic'},\n",
       " {'type': 'GermlineClassification',\n",
       "  'review_status': 'criteria provided, single submitter',\n",
       "  'description': 'Pathogenic'},\n",
       " {'type': 'GermlineClassification',\n",
       "  'review_status': 'no assertion criteria provided',\n",
       "  'description': 'Pathogenic'},\n",
       " {'type': 'GermlineClassification',\n",
       "  'review_status': 'no assertion criteria provided',\n",
       "  'description': 'Pathogenic'},\n",
       " {'type': 'GermlineClassification',\n",
       "  'review_status': 'no assertion criteria provided',\n",
       "  'description': 'Pathogenic'},\n",
       " {'type': 'GermlineClassification',\n",
       "  'review_status': 'no assertion criteria provided',\n",
       "  'description': 'Pathogenic'},\n",
       " {'type': 'GermlineClassification',\n",
       "  'review_status': 'no assertion criteria provided',\n",
       "  'description': 'Pathogenic'},\n",
       " {'type': 'GermlineClassification',\n",
       "  'review_status': 'no assertion criteria provided',\n",
       "  'description': 'Pathogenic'},\n",
       " {'type': 'GermlineClassification',\n",
       "  'review_status': 'no assertion criteria provided',\n",
       "  'description': 'Pathogenic'},\n",
       " {'type': 'GermlineClassification',\n",
       "  'review_status': 'no classification provided',\n",
       "  'description': 'not provided'},\n",
       " {'type': 'GermlineClassification',\n",
       "  'review_status': 'no assertion criteria provided',\n",
       "  'description': 'Pathogenic'},\n",
       " {'type': 'GermlineClassification',\n",
       "  'review_status': 'no assertion criteria provided',\n",
       "  'description': 'Pathogenic'},\n",
       " {'type': 'GermlineClassification',\n",
       "  'review_status': 'no classification provided',\n",
       "  'description': 'not provided'},\n",
       " {'type': 'GermlineClassification',\n",
       "  'review_status': 'no assertion criteria provided',\n",
       "  'description': 'Pathogenic'},\n",
       " {'type': 'GermlineClassification',\n",
       "  'review_status': 'no assertion criteria provided',\n",
       "  'description': 'Pathogenic'},\n",
       " {'type': 'GermlineClassification',\n",
       "  'review_status': 'no classification provided',\n",
       "  'description': 'not provided'}]"
      ]
     },
     "execution_count": 21,
     "metadata": {},
     "output_type": "execute_result"
    }
   ],
   "source": [
    "vcv_classifications"
   ]
  },
  {
   "cell_type": "code",
   "execution_count": 19,
   "id": "749d3662",
   "metadata": {
    "pycharm": {
     "name": "#%%\n"
    }
   },
   "outputs": [
    {
     "data": {
      "text/plain": [
       "500001"
      ]
     },
     "execution_count": 19,
     "metadata": {},
     "output_type": "execute_result"
    }
   ],
   "source": [
    "vcv_count"
   ]
  },
  {
   "cell_type": "code",
   "execution_count": null,
   "id": "fcfabe67",
   "metadata": {
    "pycharm": {
     "name": "#%%\n"
    }
   },
   "outputs": [],
   "source": []
  }
 ],
 "metadata": {
  "kernelspec": {
   "display_name": "Python 3 (ipykernel)",
   "language": "python",
   "name": "python3"
  },
  "language_info": {
   "codemirror_mode": {
    "name": "ipython",
    "version": 3
   },
   "file_extension": ".py",
   "mimetype": "text/x-python",
   "name": "python",
   "nbconvert_exporter": "python",
   "pygments_lexer": "ipython3",
   "version": "3.8.10"
  }
 },
 "nbformat": 4,
 "nbformat_minor": 5
}