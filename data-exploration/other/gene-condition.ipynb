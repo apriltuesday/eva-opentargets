{
 "cells": [
  {
   "cell_type": "markdown",
   "id": "6db42ce0-b30a-43e5-99b4-3995427aba5d",
   "metadata": {},
   "source": [
    "## Gene-related condition/disorders\n",
    "\n",
    "* Pull out all traits associated with this submission/submitter (?)\n",
    "    * Needs to be by [submitter ID](https://www.ncbi.nlm.nih.gov/clinvar/submitters/239772/)\n",
    "    * Shouldn't use this as a long-term solution, just to ensure we get the right \"ground truth\" set\n",
    "* Does regex like `[0-9a-zA-Z]+-related .*` work?\n",
    "    * Precision/recall over this set\n",
    "* How many such traits have EFO/MONDO/HP terms?\n",
    "* How many such traits have Medgen terms?\n",
    "* How many such traits have records from other submitters?\n",
    "* How many associated variants have other records?\n",
    "    * Note we already know 99% of targets are covered by other records\n",
    "* Iterate on the regex as needed"
   ]
  },
  {
   "cell_type": "code",
   "execution_count": 1,
   "id": "26b64b61-0987-4b56-ad0a-57992bd4426b",
   "metadata": {
    "tags": []
   },
   "outputs": [],
   "source": [
    "import sys\n",
    "sys.path.append('..')"
   ]
  },
  {
   "cell_type": "code",
   "execution_count": 2,
   "id": "fd8c42b6-7dd3-4271-a2ac-3b7c95d2be4b",
   "metadata": {
    "tags": []
   },
   "outputs": [],
   "source": [
    "from filter_clinvar_xml import filter_xml, pprint, iterate_cvs_from_xml\n",
    "\n",
    "from cmat.clinvar_xml_io import *\n",
    "from cmat.clinvar_xml_io.xml_parsing import *\n",
    "\n",
    "import gzip\n",
    "import os\n",
    "import re\n",
    "import pandas as pd"
   ]
  },
  {
   "cell_type": "code",
   "execution_count": 4,
   "id": "280e6020-16cf-43f8-9f2e-da7e6862b7ea",
   "metadata": {},
   "outputs": [],
   "source": [
    "data_dir = os.getenv('WORK_DIR')\n",
    "full_clinvar_xml = os.path.join(data_dir, 'full-clinvar.xml.gz')\n",
    "prevention_xml = os.path.join(data_dir, 'prevention-records.xml.gz')"
   ]
  },
  {
   "cell_type": "code",
   "execution_count": 5,
   "id": "35a902e8-3c1b-46f5-ab0c-4e7610edf3c9",
   "metadata": {
    "tags": []
   },
   "outputs": [],
   "source": [
    "GENE_RELATED_DISORDER = r'^\\S+-related disorder$'"
   ]
  },
  {
   "cell_type": "code",
   "execution_count": null,
   "id": "9d98cf46-cdb1-44a0-bbdc-cc1b8739d23a",
   "metadata": {},
   "outputs": [],
   "source": [
    "prevention_id = '239772'\n",
    "\n",
    "header = b'''<?xml version=\"1.0\" encoding=\"UTF-8\" standalone=\"yes\"?>\n",
    "<ReleaseSet Dated=\".\" xmlns:xsi=\"http://www.w3.org/2001/XMLSchema-instance\" Type=\"full\" xsi:noNamespaceSchemaLocation=\"http://ftp.ncbi.nlm.nih.gov/pub/clinvar/xsd_public/clinvar_public_2.0.xsd\">\n",
    "'''\n",
    "count = 0\n",
    "with gzip.open(prevention_xml, 'wb') as output_file:\n",
    "    output_file.write(header)\n",
    "    for raw_cvs_xml in iterate_cvs_from_xml(full_clinvar_xml):\n",
    "        \n",
    "        # 1. Trait must have a valid name\n",
    "        rcv = find_mandatory_unique_element(raw_cvs_xml, 'ReferenceClinVarAssertion')\n",
    "        record = ClinVarRecord(rcv, 2.0)\n",
    "        if len(record.traits_with_valid_names) == 0:\n",
    "            continue\n",
    "        \n",
    "        # 2. Record must have a PreventionGenetics submission\n",
    "        subs = find_elements(raw_cvs_xml, 'ClinVarAssertion/ClinVarAccession')\n",
    "        for s in subs:\n",
    "            org_id = s.attrib['OrgID']\n",
    "            if str(org_id) == prevention_id:\n",
    "                output_file.write(ElementTree.tostring(raw_cvs_xml))\n",
    "                count += 1\n",
    "                \n",
    "    output_file.write(b'</ReleaseSet>')\n",
    "print(f'Records written: {count}')\n",
    "\n",
    "# Records written: 112101"
   ]
  },
  {
   "cell_type": "code",
   "execution_count": 9,
   "id": "c7eef33c-eee3-44da-aa4e-a3d9906cab9e",
   "metadata": {
    "tags": []
   },
   "outputs": [],
   "source": [
    "prevention_dataset = ClinVarDataset(prevention_xml)"
   ]
  },
  {
   "cell_type": "code",
   "execution_count": 10,
   "id": "e9d7b5e4-9080-4256-b62f-d4d74118fe24",
   "metadata": {
    "tags": []
   },
   "outputs": [],
   "source": [
    "prevention_trait_names = set()\n",
    "for r in prevention_dataset:\n",
    "    for t in r.traits_with_valid_names:\n",
    "        prevention_trait_names.add(t.preferred_or_other_valid_name)"
   ]
  },
  {
   "cell_type": "code",
   "execution_count": 11,
   "id": "c0fe9959-cbba-468d-b7d8-93292ac40481",
   "metadata": {
    "tags": []
   },
   "outputs": [
    {
     "data": {
      "text/plain": [
       "5745"
      ]
     },
     "execution_count": 11,
     "metadata": {},
     "output_type": "execute_result"
    }
   ],
   "source": [
    "len(prevention_trait_names)"
   ]
  },
  {
   "cell_type": "code",
   "execution_count": 12,
   "id": "acbd8e22-b03f-46c7-9d39-96f31a7ba25e",
   "metadata": {
    "tags": []
   },
   "outputs": [],
   "source": [
    "prevention_trait_names = list(prevention_trait_names)"
   ]
  },
  {
   "cell_type": "code",
   "execution_count": 28,
   "id": "e2fbf95c-4de9-4784-802e-9c9aa2839cbd",
   "metadata": {
    "tags": []
   },
   "outputs": [],
   "source": [
    "not_related_disorder = [name for name in prevention_trait_names if not re.match(GENE_RELATED_DISORDER, name)]"
   ]
  },
  {
   "cell_type": "code",
   "execution_count": 35,
   "id": "d8fbccc7-1cdf-4c5d-a9a1-7bf84084adb7",
   "metadata": {
    "tags": []
   },
   "outputs": [
    {
     "data": {
      "text/plain": [
       "18"
      ]
     },
     "execution_count": 35,
     "metadata": {},
     "output_type": "execute_result"
    }
   ],
   "source": [
    "len(not_related_disorder)"
   ]
  },
  {
   "cell_type": "code",
   "execution_count": 29,
   "id": "d1a464a1-e8c4-40bf-9670-9b07c73f776f",
   "metadata": {
    "tags": []
   },
   "outputs": [
    {
     "data": {
      "text/plain": [
       "['Early-onset progressive diffuse brain atrophy-microcephaly-muscle weakness-optic atrophy syndrome',\n",
       " 'Niemann-Pick disease, type A',\n",
       " 'Congenital heart defects, dysmorphic facial features, and intellectual developmental disorder',\n",
       " 'Sandhoff disease',\n",
       " 'Spinocerebellar ataxia type 12',\n",
       " 'Von Hippel-Lindau syndrome',\n",
       " 'Polycystic kidney disease, adult type',\n",
       " 'Tyrosinase-negative oculocutaneous albinism',\n",
       " 'Mitral valve prolapse, myxomatous 2',\n",
       " 'Gaucher disease type I',\n",
       " 'Gaucher disease type III',\n",
       " 'Distinctive facial features',\n",
       " 'Multiple congenital anomalies',\n",
       " 'Gaucher disease type II',\n",
       " 'Van Maldergem syndrome 1',\n",
       " 'Anterior segment dysgenesis 7',\n",
       " 'Developmental delay',\n",
       " 'ASAH1-related disorders']"
      ]
     },
     "execution_count": 29,
     "metadata": {},
     "output_type": "execute_result"
    }
   ],
   "source": [
    "# Indicates we can't filter on submitter either\n",
    "# Also note *-related condition is indeed removed entirely - nothing to stop anyone from using another phrase for something similarly generic\n",
    "not_related_disorder"
   ]
  },
  {
   "cell_type": "markdown",
   "id": "989dbac4-df67-4a0a-ab13-a502879c568f",
   "metadata": {},
   "source": [
    "Don't think this is the right set to be looking at, could also do submission name (SUB14299258) or date (2024-03-08) to target the specific problematic submission but this also doesn't really address the root cause.\n",
    "\n",
    "This also raises the question as to whether we should filter gene-related condition as well as disorder, even though it's disappeared from this specific case it's still arguably not specific enough to be annotated properly. Maybe should leave it until it becomes a concrete problem though."
   ]
  },
  {
   "cell_type": "code",
   "execution_count": 6,
   "id": "e50d41a5-2176-4447-ac61-73b6a194d3ca",
   "metadata": {
    "tags": []
   },
   "outputs": [],
   "source": [
    "related_disorder_xml = os.path.join(data_dir, 'disorder-records.xml.gz')"
   ]
  },
  {
   "cell_type": "code",
   "execution_count": 33,
   "id": "88eab898-9d2e-485f-a8d7-9dd27932da6f",
   "metadata": {
    "tags": []
   },
   "outputs": [
    {
     "name": "stderr",
     "output_type": "stream",
     "text": [
      "INFO:filter_clinvar_xml:Records written: 122432\n"
     ]
    }
   ],
   "source": [
    "# Take another set, this time any with preferred trait name ending with \"related disorder\"\n",
    "\n",
    "def has_related_disorder_trait(x: ClinVarRecord):\n",
    "    for t in x.traits_with_valid_names:\n",
    "        if re.match(GENE_RELATED_DISORDER, t.preferred_or_other_valid_name):\n",
    "            return True\n",
    "    return False\n",
    "\n",
    "\n",
    "filter_xml(\n",
    "    input_xml=full_clinvar_xml,\n",
    "    output_xml=related_disorder_xml,\n",
    "    filter_fct=has_related_disorder_trait,\n",
    "    max_num=None,\n",
    ")"
   ]
  },
  {
   "cell_type": "code",
   "execution_count": 7,
   "id": "80422d27-87a1-455d-b2ed-31209a8a3d30",
   "metadata": {
    "tags": []
   },
   "outputs": [],
   "source": [
    "disorder_dataset = ClinVarDataset(related_disorder_xml)"
   ]
  },
  {
   "cell_type": "code",
   "execution_count": 41,
   "id": "4ac70f01-4026-4a07-86c4-acae572e6d11",
   "metadata": {
    "tags": []
   },
   "outputs": [],
   "source": [
    "import logging"
   ]
  },
  {
   "cell_type": "code",
   "execution_count": 42,
   "id": "eaae1892-a5cb-4e66-86ca-961b7fae8a54",
   "metadata": {
    "tags": []
   },
   "outputs": [],
   "source": [
    "logging.getLogger(\"cmat.clinvar_xml_io.clinvar_trait\").setLevel(logging.ERROR)"
   ]
  },
  {
   "cell_type": "code",
   "execution_count": 43,
   "id": "588feb44-1e5c-4e71-8abd-2b244b763495",
   "metadata": {},
   "outputs": [],
   "source": [
    "# Check coverage of MedGen terms within ClinVar\n",
    "n_disorder_traits = 0\n",
    "n_disorder_traits_with_medgen = 0\n",
    "trait_to_medgen = {}\n",
    "\n",
    "for record in disorder_dataset:\n",
    "    for trait in record.traits_with_valid_names:\n",
    "        if re.match(GENE_RELATED_DISORDER, trait.preferred_or_other_valid_name):\n",
    "            n_disorder_traits += 1\n",
    "            if trait.medgen_id:\n",
    "                n_disorder_traits_with_medgen += 1\n",
    "                trait_to_medgen[trait.preferred_or_other_valid_name] = trait.medgen_id"
   ]
  },
  {
   "cell_type": "code",
   "execution_count": 44,
   "id": "f0ef9597-3211-4ef4-838c-e375069bfe73",
   "metadata": {
    "tags": []
   },
   "outputs": [
    {
     "data": {
      "text/plain": [
       "122432"
      ]
     },
     "execution_count": 44,
     "metadata": {},
     "output_type": "execute_result"
    }
   ],
   "source": [
    "n_disorder_traits"
   ]
  },
  {
   "cell_type": "code",
   "execution_count": 45,
   "id": "7aa543aa-9254-465e-95d6-6568e358c2a8",
   "metadata": {
    "tags": []
   },
   "outputs": [
    {
     "data": {
      "text/plain": [
       "12006"
      ]
     },
     "execution_count": 45,
     "metadata": {},
     "output_type": "execute_result"
    }
   ],
   "source": [
    "n_disorder_traits_with_medgen"
   ]
  },
  {
   "cell_type": "code",
   "execution_count": 55,
   "id": "799ab5d9-b630-496d-8e3b-225e532d9ff9",
   "metadata": {
    "tags": []
   },
   "outputs": [
    {
     "data": {
      "text/plain": [
       "80"
      ]
     },
     "execution_count": 55,
     "metadata": {},
     "output_type": "execute_result"
    }
   ],
   "source": [
    "len(trait_to_medgen)"
   ]
  },
  {
   "cell_type": "code",
   "execution_count": 47,
   "id": "de73b6b3-b0d1-43a6-85e9-5c2ef27cf527",
   "metadata": {
    "tags": []
   },
   "outputs": [
    {
     "data": {
      "text/plain": [
       "0.09806259801359121"
      ]
     },
     "execution_count": 47,
     "metadata": {},
     "output_type": "execute_result"
    }
   ],
   "source": [
    "n_disorder_traits_with_medgen / n_disorder_traits"
   ]
  },
  {
   "cell_type": "markdown",
   "id": "3121fbd7-bdbf-4b97-8087-b11bafbdce53",
   "metadata": {},
   "source": [
    "12,006 / 122,432 = 9.8% of these traits have MedGen terms, not clear how meaningful they are. Two examples picked at random:\n",
    "* [TCTN2-related disorder](https://www.ncbi.nlm.nih.gov/medgen/?term=TCTN2-related+disorder)\n",
    "* [ZMPSTE24-related disorder](https://www.ncbi.nlm.nih.gov/medgen/?term=ZMPSTE24-related+disorder)\n"
   ]
  },
  {
   "cell_type": "code",
   "execution_count": 48,
   "id": "79572375-bda4-4512-9525-31991369e665",
   "metadata": {
    "tags": []
   },
   "outputs": [],
   "source": [
    "from cmat.trait_mapping.ols import get_uri_from_exact_match"
   ]
  },
  {
   "cell_type": "code",
   "execution_count": 49,
   "id": "78dbab40-5e2b-448b-9eaf-9b6bb68ce941",
   "metadata": {
    "tags": []
   },
   "outputs": [],
   "source": [
    "logging.getLogger(\"cmat.trait_mapping\").setLevel(logging.ERROR)"
   ]
  },
  {
   "cell_type": "code",
   "execution_count": 51,
   "id": "ae390a3e-b38e-49f5-885e-f1804a7b5f0c",
   "metadata": {
    "tags": []
   },
   "outputs": [],
   "source": [
    "# Check coverage of EFO terms via OLS\n",
    "\n",
    "n_disorder_traits_with_efo = 0\n",
    "trait_to_efo = {}\n",
    "\n",
    "for record in disorder_dataset:\n",
    "    for trait in record.traits_with_valid_names:\n",
    "        if re.match(GENE_RELATED_DISORDER, trait.preferred_or_other_valid_name):\n",
    "            efo_uri = get_uri_from_exact_match(trait.preferred_or_other_valid_name.lower(), 'EFO')\n",
    "            if efo_uri:\n",
    "                n_disorder_traits_with_efo += 1\n",
    "                trait_to_efo[trait.preferred_or_other_valid_name] = efo_uri"
   ]
  },
  {
   "cell_type": "code",
   "execution_count": 52,
   "id": "96eed057-4ff9-44a2-816c-eadb6e0607c0",
   "metadata": {},
   "outputs": [
    {
     "data": {
      "text/plain": [
       "599"
      ]
     },
     "execution_count": 52,
     "metadata": {},
     "output_type": "execute_result"
    }
   ],
   "source": [
    "n_disorder_traits_with_efo"
   ]
  },
  {
   "cell_type": "code",
   "execution_count": 54,
   "id": "171237e7-5481-4e61-ba09-41dd51ca056d",
   "metadata": {
    "tags": []
   },
   "outputs": [
    {
     "data": {
      "text/plain": [
       "{'CBL-related disorder': 'http://purl.obolibrary.org/obo/MONDO_0013308',\n",
       " 'CLCN4-related disorder': 'http://www.ebi.ac.uk/efo/EFO_0009066',\n",
       " 'ATP6AP2-related disorder': 'http://purl.obolibrary.org/obo/MONDO_0100146',\n",
       " 'STAG1-related disorder': 'http://www.ebi.ac.uk/efo/EFO_0009078',\n",
       " 'COL4A1-related disorder': 'http://purl.obolibrary.org/obo/MONDO_0800461',\n",
       " 'DKC1-related disorder': 'http://purl.obolibrary.org/obo/MONDO_0100152',\n",
       " 'CTSC-related disorder': 'http://purl.obolibrary.org/obo/MONDO_0800465'}"
      ]
     },
     "execution_count": 54,
     "metadata": {},
     "output_type": "execute_result"
    }
   ],
   "source": [
    "trait_to_efo"
   ]
  },
  {
   "cell_type": "code",
   "execution_count": 56,
   "id": "604f46ae-5b7c-469e-8445-1c4a02819622",
   "metadata": {
    "tags": []
   },
   "outputs": [],
   "source": [
    "# Just get the complete set of names\n",
    "unique_names = set()\n",
    "for record in disorder_dataset:\n",
    "    for trait in record.traits_with_valid_names:\n",
    "        if re.match(GENE_RELATED_DISORDER, trait.preferred_or_other_valid_name):\n",
    "            unique_names.add(trait.preferred_or_other_valid_name)"
   ]
  },
  {
   "cell_type": "code",
   "execution_count": 57,
   "id": "0e713041-6bc0-46bf-9bf8-7a91415ef126",
   "metadata": {
    "tags": []
   },
   "outputs": [
    {
     "data": {
      "text/plain": [
       "5788"
      ]
     },
     "execution_count": 57,
     "metadata": {},
     "output_type": "execute_result"
    }
   ],
   "source": [
    "# Compare 5745-18=5727 within \"prevention\" set\n",
    "len(unique_names)"
   ]
  },
  {
   "cell_type": "code",
   "execution_count": 59,
   "id": "969082df-905f-42eb-86cc-b832083e6318",
   "metadata": {
    "tags": []
   },
   "outputs": [],
   "source": [
    "# Dump to file\n",
    "with open(os.path.join(data_dir, 'disorder-traits.csv'), 'w+') as outfile:\n",
    "    outfile.write('trait_name,medgen_id,efo_uri\\n')\n",
    "    for n in unique_names:\n",
    "        outfile.write(f'{n},{trait_to_medgen.get(n, \"\")},{trait_to_efo.get(n, \"\")}\\n')"
   ]
  },
  {
   "cell_type": "code",
   "execution_count": 60,
   "id": "ab235b28-8882-4d87-b9e3-3124fabfee6e",
   "metadata": {
    "tags": []
   },
   "outputs": [
    {
     "data": {
      "text/plain": [
       "0.013821700069108501"
      ]
     },
     "execution_count": 60,
     "metadata": {},
     "output_type": "execute_result"
    }
   ],
   "source": [
    "len(trait_to_medgen) / len(unique_names)"
   ]
  },
  {
   "cell_type": "code",
   "execution_count": 61,
   "id": "72c2f38e-199e-46ab-a271-30ba4f99a383",
   "metadata": {
    "tags": []
   },
   "outputs": [
    {
     "data": {
      "text/plain": [
       "0.0012093987560469939"
      ]
     },
     "execution_count": 61,
     "metadata": {},
     "output_type": "execute_result"
    }
   ],
   "source": [
    "len(trait_to_efo) / len(unique_names)"
   ]
  },
  {
   "cell_type": "code",
   "execution_count": 63,
   "id": "910d825b-a2ea-4f7d-8594-a22f31110229",
   "metadata": {
    "tags": []
   },
   "outputs": [
    {
     "name": "stdout",
     "output_type": "stream",
     "text": [
      "CBL-related disorder|http://purl.obolibrary.org/obo/MONDO_0013308\n",
      "CLCN4-related disorder|http://www.ebi.ac.uk/efo/EFO_0009066\n",
      "ATP6AP2-related disorder|http://purl.obolibrary.org/obo/MONDO_0100146\n",
      "STAG1-related disorder|http://www.ebi.ac.uk/efo/EFO_0009078\n",
      "COL4A1-related disorder|http://purl.obolibrary.org/obo/MONDO_0800461\n",
      "DKC1-related disorder|http://purl.obolibrary.org/obo/MONDO_0100152\n",
      "CTSC-related disorder|http://purl.obolibrary.org/obo/MONDO_0800465\n"
     ]
    }
   ],
   "source": [
    "for t in trait_to_efo:\n",
    "    print(f'{t}|{trait_to_efo[t]}')"
   ]
  },
  {
   "cell_type": "markdown",
   "id": "2b25cb74-3e4d-43b8-a070-231f2c479320",
   "metadata": {},
   "source": [
    "### Part 2\n",
    "\n",
    "Check coverage of variants associated with gene-related disorder terms - are they covered under other terms as well?"
   ]
  },
  {
   "cell_type": "code",
   "execution_count": 9,
   "id": "ea87e4bc-3a9d-4d63-a3ee-43530e13aa7c",
   "metadata": {
    "tags": []
   },
   "outputs": [],
   "source": [
    "# 1. Pull VCVs of measures in the disorder set\n",
    "#    (Should we use another variant identifier, e.g. chr_pos_ref_alt?)\n",
    "disorder_vcvs = set()\n",
    "\n",
    "for record in disorder_dataset:\n",
    "    if record.measure:\n",
    "        disorder_vcvs.add(record.vcv)"
   ]
  },
  {
   "cell_type": "code",
   "execution_count": 11,
   "id": "90025014-a2f2-4682-8364-77becdb3d740",
   "metadata": {
    "tags": []
   },
   "outputs": [
    {
     "data": {
      "text/plain": [
       "122355"
      ]
     },
     "execution_count": 11,
     "metadata": {},
     "output_type": "execute_result"
    }
   ],
   "source": [
    "len(disorder_vcvs)"
   ]
  },
  {
   "cell_type": "code",
   "execution_count": 10,
   "id": "e8feb407-e2ff-4a14-b529-0299ecbdcf6b",
   "metadata": {
    "tags": []
   },
   "outputs": [],
   "source": [
    "full_dataset = ClinVarDataset(full_clinvar_xml)"
   ]
  },
  {
   "cell_type": "code",
   "execution_count": 12,
   "id": "c253346d-0b80-430e-b31c-a3ea692398c6",
   "metadata": {
    "tags": []
   },
   "outputs": [],
   "source": [
    "related_disorder_vcv_xml = os.path.join(data_dir, 'disorder-vcv-records.xml.gz')"
   ]
  },
  {
   "cell_type": "code",
   "execution_count": 13,
   "id": "f50d338b-4619-4fec-a02d-9d057442cefc",
   "metadata": {
    "tags": []
   },
   "outputs": [],
   "source": [
    "from collections import defaultdict"
   ]
  },
  {
   "cell_type": "code",
   "execution_count": 31,
   "id": "16d55da7-c2d4-4aba-9920-911dbea71cdb",
   "metadata": {
    "tags": []
   },
   "outputs": [
    {
     "name": "stderr",
     "output_type": "stream",
     "text": [
      "INFO:filter_clinvar_xml:Records written: 213830\n"
     ]
    }
   ],
   "source": [
    "# 2. Go through full set and pull terms/records associated with those VCVs\n",
    "disorder_vcv_trait_names = defaultdict(set)\n",
    "\n",
    "\n",
    "# NB. filter function with side effects!\n",
    "def has_disorder_vcv(x: ClinVarRecord):\n",
    "    if x.traits_with_valid_names and x.measure and x.vcv in disorder_vcvs:\n",
    "        disorder_vcv_trait_names[x.vcv] |= {t.preferred_or_other_valid_name.lower() for t in x.traits_with_valid_names}\n",
    "        return True\n",
    "    return False\n",
    "\n",
    "\n",
    "filter_xml(\n",
    "    input_xml=full_clinvar_xml,\n",
    "    output_xml=related_disorder_vcv_xml,\n",
    "    filter_fct=has_disorder_vcv,\n",
    "    max_num=None,\n",
    ")\n"
   ]
  },
  {
   "cell_type": "code",
   "execution_count": 32,
   "id": "dee0169f-c697-4ab6-be94-0c6fd73f0add",
   "metadata": {
    "tags": []
   },
   "outputs": [
    {
     "data": {
      "text/plain": [
       "122355"
      ]
     },
     "execution_count": 32,
     "metadata": {},
     "output_type": "execute_result"
    }
   ],
   "source": [
    "len(disorder_vcv_trait_names)"
   ]
  },
  {
   "cell_type": "code",
   "execution_count": 33,
   "id": "b90b9c0b-18f4-4782-974c-6243d187d829",
   "metadata": {
    "tags": []
   },
   "outputs": [],
   "source": [
    "mult_traits = {\n",
    "    k: v for k, v in disorder_vcv_trait_names.items() if len(v) > 1\n",
    "}\n",
    "sing_trait = {\n",
    "    k: v for k, v in disorder_vcv_trait_names.items() if len(v) == 1\n",
    "}"
   ]
  },
  {
   "cell_type": "code",
   "execution_count": 34,
   "id": "984b18db-7f88-4353-96e8-1c5ba45dc791",
   "metadata": {
    "tags": []
   },
   "outputs": [
    {
     "data": {
      "text/plain": [
       "49241"
      ]
     },
     "execution_count": 34,
     "metadata": {},
     "output_type": "execute_result"
    }
   ],
   "source": [
    "len(mult_traits)"
   ]
  },
  {
   "cell_type": "code",
   "execution_count": 35,
   "id": "c0fd8488-a122-46f2-a22d-123a01bb858b",
   "metadata": {
    "tags": []
   },
   "outputs": [
    {
     "data": {
      "text/plain": [
       "73114"
      ]
     },
     "execution_count": 35,
     "metadata": {},
     "output_type": "execute_result"
    }
   ],
   "source": [
    "len(sing_trait)"
   ]
  },
  {
   "cell_type": "code",
   "execution_count": 39,
   "id": "767a6853-6599-4964-b8ff-4a267b2eb1eb",
   "metadata": {
    "tags": []
   },
   "outputs": [],
   "source": [
    "trait_to_efo = {'CBL-related disorder': 'http://purl.obolibrary.org/obo/MONDO_0013308',\n",
    " 'CLCN4-related disorder': 'http://www.ebi.ac.uk/efo/EFO_0009066',\n",
    " 'ATP6AP2-related disorder': 'http://purl.obolibrary.org/obo/MONDO_0100146',\n",
    " 'STAG1-related disorder': 'http://www.ebi.ac.uk/efo/EFO_0009078',\n",
    " 'COL4A1-related disorder': 'http://purl.obolibrary.org/obo/MONDO_0800461',\n",
    " 'DKC1-related disorder': 'http://purl.obolibrary.org/obo/MONDO_0100152',\n",
    " 'CTSC-related disorder': 'http://purl.obolibrary.org/obo/MONDO_0800465'}"
   ]
  },
  {
   "cell_type": "code",
   "execution_count": 40,
   "id": "e6abc8bb-694e-4f14-9255-4561365b811e",
   "metadata": {
    "tags": []
   },
   "outputs": [],
   "source": [
    "traits_with_efo = {t.lower() for t in trait_to_efo}"
   ]
  },
  {
   "cell_type": "code",
   "execution_count": 53,
   "id": "f1c0f767-dda8-4580-b5f1-25d52ba482a1",
   "metadata": {
    "tags": []
   },
   "outputs": [
    {
     "name": "stdout",
     "output_type": "stream",
     "text": [
      "Total variants associated with gene-related disorder traits: 122355\n",
      "\tNumber of these with multiple traits: 49241\n",
      "\t\tNumber of these including a currently EFO-mapped one: 236\n",
      "\tNumber of these with single trait: 73114\n",
      "\t\tNumber of these including a currently EFO-mapped one: 350\n"
     ]
    }
   ],
   "source": [
    "n_mult_trait_vars_with_efo_trait = 0\n",
    "n_sing_trait_vars_with_efo_trait = 0\n",
    "to_output = {}\n",
    "\n",
    "for vcv, traits in mult_traits.items():\n",
    "    if len(traits & traits_with_efo) > 0:\n",
    "        n_mult_trait_vars_with_efo_trait += 1\n",
    "        to_output[vcv] = traits\n",
    "        \n",
    "for vcv, traits in sing_trait.items():\n",
    "    if len(traits & traits_with_efo) > 0:\n",
    "        n_sing_trait_vars_with_efo_trait += 1\n",
    "        to_output[vcv] = traits\n",
    "\n",
    "print('Total variants associated with gene-related disorder traits:', len(disorder_vcv_trait_names))\n",
    "print('\\tNumber of these with multiple traits:', len(mult_traits))\n",
    "print('\\t\\tNumber of these including a currently EFO-mapped one:', n_mult_trait_vars_with_efo_trait)\n",
    "print('\\tNumber of these with single trait:', len(sing_trait))\n",
    "print('\\t\\tNumber of these including a currently EFO-mapped one:', n_sing_trait_vars_with_efo_trait)"
   ]
  },
  {
   "cell_type": "code",
   "execution_count": 49,
   "id": "43e42d2e-e1b6-4126-b3a8-15ea1308c26e",
   "metadata": {
    "tags": []
   },
   "outputs": [
    {
     "data": {
      "text/plain": [
       "0.40244370887989867"
      ]
     },
     "execution_count": 49,
     "metadata": {},
     "output_type": "execute_result"
    }
   ],
   "source": [
    "49241/122355"
   ]
  },
  {
   "cell_type": "code",
   "execution_count": 50,
   "id": "a407c34f-4d4d-4666-96d4-2234330d98b5",
   "metadata": {
    "tags": []
   },
   "outputs": [
    {
     "data": {
      "text/plain": [
       "0.5975562911201013"
      ]
     },
     "execution_count": 50,
     "metadata": {},
     "output_type": "execute_result"
    }
   ],
   "source": [
    "73114/122355"
   ]
  },
  {
   "cell_type": "code",
   "execution_count": 54,
   "id": "7911848f-8461-4b8d-bccf-52735311ba85",
   "metadata": {
    "tags": []
   },
   "outputs": [],
   "source": [
    "# dump vcv-to-traits mapping (containing efo mapped traits only\n",
    "with open(os.path.join(data_dir, 'vcv-to-efo-traits.tsv'), 'w+') as outfile:\n",
    "    outfile.write('vcv\\ttrait_names\\n')\n",
    "    for vcv, traits in to_output.items():\n",
    "        outfile.write(f'{vcv}\\t{\",\".join(traits)}\\n')"
   ]
  },
  {
   "cell_type": "code",
   "execution_count": null,
   "id": "1a71ca41-d0f1-43eb-bcb7-4b3f1fff73cf",
   "metadata": {},
   "outputs": [],
   "source": []
  }
 ],
 "metadata": {
  "kernelspec": {
   "display_name": "my-pyenv",
   "language": "python",
   "name": "my-pyenv"
  },
  "language_info": {
   "codemirror_mode": {
    "name": "ipython",
    "version": 3
   },
   "file_extension": ".py",
   "mimetype": "text/x-python",
   "name": "python",
   "nbconvert_exporter": "python",
   "pygments_lexer": "ipython3",
   "version": "3.8.11"
  }
 },
 "nbformat": 4,
 "nbformat_minor": 5
}
