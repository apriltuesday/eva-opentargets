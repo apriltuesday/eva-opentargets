{
 "cells": [
  {
   "cell_type": "markdown",
   "id": "6db42ce0-b30a-43e5-99b4-3995427aba5d",
   "metadata": {},
   "source": [
    "## Gene-related condition/disorders\n",
    "\n",
    "* Pull out all traits associated with this submission/submitter (?)\n",
    "    * Needs to be by [submitter ID](https://www.ncbi.nlm.nih.gov/clinvar/submitters/239772/)\n",
    "    * Shouldn't use this as a long-term solution, just to ensure we get the right \"ground truth\" set\n",
    "* Does regex like `[0-9a-zA-Z]+-related .*` work?\n",
    "    * Precision/recall over this set\n",
    "* How many such traits have EFO/MONDO/HP terms?\n",
    "* How many such traits have Medgen terms?\n",
    "* How many such traits have records from other submitters?\n",
    "* How many associated variants have other records?\n",
    "    * Note we already know 99% of targets are covered by other records\n",
    "* Iterate on the regex as needed"
   ]
  },
  {
   "cell_type": "code",
   "execution_count": 4,
   "id": "26b64b61-0987-4b56-ad0a-57992bd4426b",
   "metadata": {
    "tags": []
   },
   "outputs": [],
   "source": [
    "import sys\n",
    "sys.path.append('..')"
   ]
  },
  {
   "cell_type": "code",
   "execution_count": 5,
   "id": "fd8c42b6-7dd3-4271-a2ac-3b7c95d2be4b",
   "metadata": {
    "tags": []
   },
   "outputs": [],
   "source": [
    "from filter_clinvar_xml import filter_xml, pprint, iterate_cvs_from_xml\n",
    "\n",
    "from cmat.clinvar_xml_io import *\n",
    "from cmat.clinvar_xml_io.xml_parsing import *\n",
    "\n",
    "import gzip\n",
    "import os\n",
    "import re\n",
    "import pandas as pd"
   ]
  },
  {
   "cell_type": "code",
   "execution_count": 7,
   "id": "280e6020-16cf-43f8-9f2e-da7e6862b7ea",
   "metadata": {},
   "outputs": [],
   "source": [
    "data_dir = os.getenv('WORK_DIR')\n",
    "full_clinvar_xml = os.path.join(data_dir, 'full-clinvar.xml.gz')\n",
    "prevention_xml = os.path.join(data_dir, 'prevention-records.xml.gz')"
   ]
  },
  {
   "cell_type": "code",
   "execution_count": null,
   "id": "9d98cf46-cdb1-44a0-bbdc-cc1b8739d23a",
   "metadata": {},
   "outputs": [],
   "source": [
    "prevention_id = '239772'\n",
    "\n",
    "header = b'''<?xml version=\"1.0\" encoding=\"UTF-8\" standalone=\"yes\"?>\n",
    "<ReleaseSet Dated=\".\" xmlns:xsi=\"http://www.w3.org/2001/XMLSchema-instance\" Type=\"full\" xsi:noNamespaceSchemaLocation=\"http://ftp.ncbi.nlm.nih.gov/pub/clinvar/xsd_public/clinvar_public_2.0.xsd\">\n",
    "'''\n",
    "count = 0\n",
    "with gzip.open(prevention_xml, 'wb') as output_file:\n",
    "    output_file.write(header)\n",
    "    for raw_cvs_xml in iterate_cvs_from_xml(full_clinvar_xml):\n",
    "        \n",
    "        # 1. Trait must have a valid name\n",
    "        rcv = find_mandatory_unique_element(raw_cvs_xml, 'ReferenceClinVarAssertion')\n",
    "        record = ClinVarRecord(rcv, 2.0)\n",
    "        if len(record.traits_with_valid_names) == 0:\n",
    "            continue\n",
    "        \n",
    "        # 2. Record must have a PreventionGenetics submission\n",
    "        subs = find_elements(raw_cvs_xml, 'ClinVarAssertion/ClinVarAccession')\n",
    "        for s in subs:\n",
    "            org_id = s.attrib['OrgID']\n",
    "            if str(org_id) == prevention_id:\n",
    "                output_file.write(ElementTree.tostring(raw_cvs_xml))\n",
    "                count += 1\n",
    "                \n",
    "    output_file.write(b'</ReleaseSet>')\n",
    "print(f'Records written: {count}')\n",
    "\n",
    "# Records written: 112101"
   ]
  },
  {
   "cell_type": "code",
   "execution_count": 9,
   "id": "c7eef33c-eee3-44da-aa4e-a3d9906cab9e",
   "metadata": {
    "tags": []
   },
   "outputs": [],
   "source": [
    "prevention_dataset = ClinVarDataset(prevention_xml)"
   ]
  },
  {
   "cell_type": "code",
   "execution_count": 10,
   "id": "e9d7b5e4-9080-4256-b62f-d4d74118fe24",
   "metadata": {
    "tags": []
   },
   "outputs": [],
   "source": [
    "prevention_trait_names = set()\n",
    "for r in prevention_dataset:\n",
    "    for t in r.traits_with_valid_names:\n",
    "        prevention_trait_names.add(t.preferred_or_other_valid_name)"
   ]
  },
  {
   "cell_type": "code",
   "execution_count": 11,
   "id": "c0fe9959-cbba-468d-b7d8-93292ac40481",
   "metadata": {
    "tags": []
   },
   "outputs": [
    {
     "data": {
      "text/plain": [
       "5745"
      ]
     },
     "execution_count": 11,
     "metadata": {},
     "output_type": "execute_result"
    }
   ],
   "source": [
    "len(prevention_trait_names)"
   ]
  },
  {
   "cell_type": "code",
   "execution_count": 12,
   "id": "acbd8e22-b03f-46c7-9d39-96f31a7ba25e",
   "metadata": {
    "tags": []
   },
   "outputs": [],
   "source": [
    "prevention_trait_names = list(prevention_trait_names)"
   ]
  },
  {
   "cell_type": "code",
   "execution_count": 27,
   "id": "35a902e8-3c1b-46f5-ab0c-4e7610edf3c9",
   "metadata": {
    "tags": []
   },
   "outputs": [],
   "source": [
    "GENE_RELATED_DISORDER = r'^\\S+-related disorder$'"
   ]
  },
  {
   "cell_type": "code",
   "execution_count": 28,
   "id": "e2fbf95c-4de9-4784-802e-9c9aa2839cbd",
   "metadata": {
    "tags": []
   },
   "outputs": [],
   "source": [
    "not_related_disorder = [name for name in prevention_trait_names if not re.match(GENE_RELATED_DISORDER, name)]"
   ]
  },
  {
   "cell_type": "code",
   "execution_count": 29,
   "id": "d1a464a1-e8c4-40bf-9670-9b07c73f776f",
   "metadata": {
    "tags": []
   },
   "outputs": [
    {
     "data": {
      "text/plain": [
       "['Early-onset progressive diffuse brain atrophy-microcephaly-muscle weakness-optic atrophy syndrome',\n",
       " 'Niemann-Pick disease, type A',\n",
       " 'Congenital heart defects, dysmorphic facial features, and intellectual developmental disorder',\n",
       " 'Sandhoff disease',\n",
       " 'Spinocerebellar ataxia type 12',\n",
       " 'Von Hippel-Lindau syndrome',\n",
       " 'Polycystic kidney disease, adult type',\n",
       " 'Tyrosinase-negative oculocutaneous albinism',\n",
       " 'Mitral valve prolapse, myxomatous 2',\n",
       " 'Gaucher disease type I',\n",
       " 'Gaucher disease type III',\n",
       " 'Distinctive facial features',\n",
       " 'Multiple congenital anomalies',\n",
       " 'Gaucher disease type II',\n",
       " 'Van Maldergem syndrome 1',\n",
       " 'Anterior segment dysgenesis 7',\n",
       " 'Developmental delay',\n",
       " 'ASAH1-related disorders']"
      ]
     },
     "execution_count": 29,
     "metadata": {},
     "output_type": "execute_result"
    }
   ],
   "source": [
    "# Indicates we can't filter on submitter either\n",
    "# Also note *-related condition is indeed removed entirely - nothing to stop anyone from using another phrase for something similarly generic\n",
    "not_related_disorder"
   ]
  },
  {
   "cell_type": "markdown",
   "id": "989dbac4-df67-4a0a-ab13-a502879c568f",
   "metadata": {},
   "source": [
    "Don't think this is the right set to be looking at, could also do submission name (SUB14299258) or date (2024-03-08) to target the specific problematic submission but this also doesn't really address the root cause.\n",
    "\n",
    "This also raises the question as to whether we should filter gene-related condition as well as disorder, even though it's disappeared from this specific case it's still arguably not specific enough to be annotated properly. Maybe should leave it until it becomes a concrete problem though."
   ]
  },
  {
   "cell_type": "code",
   "execution_count": 19,
   "id": "ae390a3e-b38e-49f5-885e-f1804a7b5f0c",
   "metadata": {
    "tags": []
   },
   "outputs": [],
   "source": [
    "# How many *-related disorder terms have EFO/MONDO/HP, or Medgen terms? => postponed till OLS/EFO back up\n",
    "# Can check medgen terms within ClinVar though"
   ]
  },
  {
   "cell_type": "code",
   "execution_count": 32,
   "id": "e50d41a5-2176-4447-ac61-73b6a194d3ca",
   "metadata": {
    "tags": []
   },
   "outputs": [],
   "source": [
    "related_disorder_xml = os.path.join(data_dir, 'disorder-records.xml.gz')"
   ]
  },
  {
   "cell_type": "code",
   "execution_count": null,
   "id": "88eab898-9d2e-485f-a8d7-9dd27932da6f",
   "metadata": {
    "tags": []
   },
   "outputs": [],
   "source": [
    "# Take another set, this time any with preferred trait name ending with \"related disorder\"\n",
    "\n",
    "def has_related_disorder_trait(x: ClinVarRecord):\n",
    "    for t in x.traits_with_valid_names:\n",
    "        if re.match(GENE_RELATED_DISORDER, t.preferred_or_other_valid_name):\n",
    "            return True\n",
    "    return False\n",
    "\n",
    "\n",
    "filter_xml(\n",
    "    input_xml=full_clinvar_xml,\n",
    "    output_xml=related_disorder_xml,\n",
    "    filter_fct=has_related_disorder_trait,\n",
    "    max_num=None,\n",
    ")"
   ]
  },
  {
   "cell_type": "code",
   "execution_count": null,
   "id": "96eed057-4ff9-44a2-816c-eadb6e0607c0",
   "metadata": {},
   "outputs": [],
   "source": [
    "# Of \"related disorder\" records, how many have MedGen or any other term within ClinVar?\n",
    "# How many have a submitter besides Prevention Genetics? (not sure we really care about this actually)\n"
   ]
  }
 ],
 "metadata": {
  "kernelspec": {
   "display_name": "my-pyenv",
   "language": "python",
   "name": "my-pyenv"
  },
  "language_info": {
   "codemirror_mode": {
    "name": "ipython",
    "version": 3
   },
   "file_extension": ".py",
   "mimetype": "text/x-python",
   "name": "python",
   "nbconvert_exporter": "python",
   "pygments_lexer": "ipython3",
   "version": "3.8.11"
  }
 },
 "nbformat": 4,
 "nbformat_minor": 5
}
